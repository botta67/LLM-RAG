{
 "cells": [
  {
   "cell_type": "code",
   "execution_count": null,
   "id": "1e42dbce",
   "metadata": {},
   "outputs": [],
   "source": [
    "#cose da eseguire\n",
    "#in un terminale (1) -> docker-compose up\n",
    "#in un altro terminale (2) -> docker exec -it ollama bash\n",
    "#nel terminale 2 -> ollama pull phi3\n"
   ]
  },
  {
   "cell_type": "code",
   "execution_count": null,
   "id": "b606417e",
   "metadata": {},
   "outputs": [],
   "source": [
    "!pip install elasticsearch tqdm openai"
   ]
  },
  {
   "cell_type": "code",
   "execution_count": null,
   "id": "b8019fc2",
   "metadata": {},
   "outputs": [],
   "source": [
    "from openai import OpenAI\n",
    "\n",
    "client = OpenAI(\n",
    "    base_url='http://localhost:11434/v1/',\n",
    "    api_key='ollama',\n",
    ")"
   ]
  },
  {
   "cell_type": "code",
   "execution_count": null,
   "id": "762cff2a",
   "metadata": {},
   "outputs": [],
   "source": [
    "import json\n",
    "\n",
    "#create the docs_raw variable from the .json file\n",
    "with open('documents.json','rt') as f_in:\n",
    "    docs_raw = json.load(f_in)\n",
    "\n",
    "documents = []\n",
    "\n",
    "for course_dict in docs_raw:\n",
    "    for doc in course_dict['documents']:\n",
    "        doc['course'] = course_dict['course']\n",
    "        documents.append(doc)\n",
    "        "
   ]
  },
  {
   "cell_type": "code",
   "execution_count": null,
   "id": "d07760ec-823b-4854-90b3-299a93d0d63a",
   "metadata": {},
   "outputs": [],
   "source": [
    "documents[0]"
   ]
  },
  {
   "cell_type": "code",
   "execution_count": null,
   "id": "b8305f61-b9ee-4f28-b325-f6b71716382f",
   "metadata": {},
   "outputs": [],
   "source": [
    "def build_prompt(query,search_results):\n",
    "    prompt_template=\"\"\"\n",
    "    You're a course teaching assistant. Answer the QUESTION based on the CONTEXT from the FAQ database.\n",
    "    Use only the facts from the CONTEXT when answering the QUESTION.\n",
    "    If the CONTEXT doesn't cointain the answer, output NONE.\n",
    "\n",
    "    QUESTION: {question}\n",
    "\n",
    "    CONTEXT:\n",
    "    {context}\n",
    "    \"\"\"\n",
    "\n",
    "    \n",
    "    context = \"\"\n",
    "\n",
    "    for doc in search_results:\n",
    "        context= context + f\"section: {doc['section']}\\n\\nquestion: {doc['question']}\\n\\nanswer: {doc['text']}\\n\\n\"\n",
    "\n",
    "    prompt = prompt_template.format(question=query,context=context)\n",
    "    return prompt"
   ]
  },
  {
   "cell_type": "code",
   "execution_count": null,
   "id": "6cb0ce1c-793b-4554-a768-d8412460ded1",
   "metadata": {},
   "outputs": [],
   "source": [
    "def llm(prompt):\n",
    "\n",
    "    response=client.chat.completions.create(\n",
    "        model='qwen2:1.5b',\n",
    "        messages=[{\"role\": \"user\", \"content\":prompt}]\n",
    "    )\n",
    "    return response.choices[0].message.content\n",
    "    #import ollama\n",
    "    #response = ollama.generate(model=\"gemma:2b\", prompt=prompt)\n",
    "    #return response"
   ]
  },
  {
   "cell_type": "code",
   "execution_count": null,
   "id": "f3a7bf5e-a31c-4747-bbc6-ddde30e372ec",
   "metadata": {},
   "outputs": [],
   "source": [
    "print(response['response'])"
   ]
  },
  {
   "cell_type": "code",
   "execution_count": null,
   "id": "e9da01af-ed67-4ae8-bf0e-5fe2d94e8bad",
   "metadata": {},
   "outputs": [],
   "source": [
    "query = \"the course has already started, can I still enroll?\"\n"
   ]
  },
  {
   "cell_type": "code",
   "execution_count": null,
   "id": "d12d0c25-deb8-4bc2-a77a-32ae659f3892",
   "metadata": {},
   "outputs": [],
   "source": [
    "def rag(query):\n",
    "    results = search_elastic(query)\n",
    "    prompt = build_prompt(query,results)\n",
    "    response = llm(prompt)\n",
    "    return response#['response']"
   ]
  },
  {
   "cell_type": "code",
   "execution_count": 111,
   "id": "3dd893c7-0947-4796-922e-3e1727f1cd2a",
   "metadata": {},
   "outputs": [
    {
     "ename": "TypeError",
     "evalue": "list indices must be integers or slices, not str",
     "output_type": "error",
     "traceback": [
      "\u001b[0;31m---------------------------------------------------------------------------\u001b[0m",
      "\u001b[0;31mTypeError\u001b[0m                                 Traceback (most recent call last)",
      "Cell \u001b[0;32mIn[111], line 1\u001b[0m\n\u001b[0;32m----> 1\u001b[0m answer \u001b[38;5;241m=\u001b[39m \u001b[43mrag\u001b[49m\u001b[43m(\u001b[49m\u001b[43mquery\u001b[49m\u001b[43m)\u001b[49m\n\u001b[1;32m      2\u001b[0m \u001b[38;5;28mprint\u001b[39m(answer)\n",
      "Cell \u001b[0;32mIn[18], line 3\u001b[0m, in \u001b[0;36mrag\u001b[0;34m(query)\u001b[0m\n\u001b[1;32m      1\u001b[0m \u001b[38;5;28;01mdef\u001b[39;00m \u001b[38;5;21mrag\u001b[39m(query):\n\u001b[1;32m      2\u001b[0m     results \u001b[38;5;241m=\u001b[39m search_elastic(query)\n\u001b[0;32m----> 3\u001b[0m     prompt \u001b[38;5;241m=\u001b[39m \u001b[43mbuild_prompt\u001b[49m\u001b[43m(\u001b[49m\u001b[43mquery\u001b[49m\u001b[43m,\u001b[49m\u001b[43mresults\u001b[49m\u001b[43m)\u001b[49m\n\u001b[1;32m      4\u001b[0m     response \u001b[38;5;241m=\u001b[39m llm(prompt)\n\u001b[1;32m      5\u001b[0m     \u001b[38;5;28;01mreturn\u001b[39;00m response\n",
      "Cell \u001b[0;32mIn[7], line 17\u001b[0m, in \u001b[0;36mbuild_prompt\u001b[0;34m(query, search_results)\u001b[0m\n\u001b[1;32m     14\u001b[0m context \u001b[38;5;241m=\u001b[39m \u001b[38;5;124m\"\u001b[39m\u001b[38;5;124m\"\u001b[39m\n\u001b[1;32m     16\u001b[0m \u001b[38;5;28;01mfor\u001b[39;00m doc \u001b[38;5;129;01min\u001b[39;00m search_results:\n\u001b[0;32m---> 17\u001b[0m     context\u001b[38;5;241m=\u001b[39m context \u001b[38;5;241m+\u001b[39m \u001b[38;5;124mf\u001b[39m\u001b[38;5;124m\"\u001b[39m\u001b[38;5;124msection: \u001b[39m\u001b[38;5;132;01m{\u001b[39;00m\u001b[43mdoc\u001b[49m\u001b[43m[\u001b[49m\u001b[38;5;124;43m'\u001b[39;49m\u001b[38;5;124;43msection\u001b[39;49m\u001b[38;5;124;43m'\u001b[39;49m\u001b[43m]\u001b[49m\u001b[38;5;132;01m}\u001b[39;00m\u001b[38;5;130;01m\\n\u001b[39;00m\u001b[38;5;130;01m\\n\u001b[39;00m\u001b[38;5;124mquestion: \u001b[39m\u001b[38;5;132;01m{\u001b[39;00mdoc[\u001b[38;5;124m'\u001b[39m\u001b[38;5;124mquestion\u001b[39m\u001b[38;5;124m'\u001b[39m]\u001b[38;5;132;01m}\u001b[39;00m\u001b[38;5;130;01m\\n\u001b[39;00m\u001b[38;5;130;01m\\n\u001b[39;00m\u001b[38;5;124manswer: \u001b[39m\u001b[38;5;132;01m{\u001b[39;00mdoc[\u001b[38;5;124m'\u001b[39m\u001b[38;5;124mtext\u001b[39m\u001b[38;5;124m'\u001b[39m]\u001b[38;5;132;01m}\u001b[39;00m\u001b[38;5;130;01m\\n\u001b[39;00m\u001b[38;5;130;01m\\n\u001b[39;00m\u001b[38;5;124m\"\u001b[39m\n\u001b[1;32m     19\u001b[0m prompt \u001b[38;5;241m=\u001b[39m prompt_template\u001b[38;5;241m.\u001b[39mformat(question\u001b[38;5;241m=\u001b[39mquery,context\u001b[38;5;241m=\u001b[39mcontext)\n\u001b[1;32m     20\u001b[0m \u001b[38;5;28;01mreturn\u001b[39;00m prompt\n",
      "\u001b[0;31mTypeError\u001b[0m: list indices must be integers or slices, not str"
     ]
    }
   ],
   "source": [
    "answer = rag(query)\n",
    "print(answer)"
   ]
  },
  {
   "cell_type": "markdown",
   "id": "1360433c",
   "metadata": {},
   "source": [
    "#elastic search"
   ]
  },
  {
   "cell_type": "code",
   "execution_count": 106,
   "id": "98f876b8-8518-493a-9231-a96b3eace33f",
   "metadata": {},
   "outputs": [
    {
     "data": {
      "application/vnd.jupyter.widget-view+json": {
       "model_id": "7dfe1e7cb2db424991c58a846bf2731d",
       "version_major": 2,
       "version_minor": 0
      },
      "text/plain": [
       "  0%|          | 0/948 [00:00<?, ?it/s]"
      ]
     },
     "metadata": {},
     "output_type": "display_data"
    }
   ],
   "source": [
    "from elasticsearch import Elasticsearch\n",
    "es_client = Elasticsearch('http://localhost:9200')\n",
    "index_name = \"course-questions\"\n",
    "import tqdm\n",
    "#dont run this cell several times, or (idk why) some doc duplicated. If so, try to delete the index ->\n",
    "es_client.indices.delete(index=index_name)\n",
    "from tqdm.auto import tqdm\n",
    "for doc in tqdm(documents):\n",
    "    es_client.index(index=index_name, document=doc)\n",
    "\n"
   ]
  },
  {
   "cell_type": "code",
   "execution_count": null,
   "id": "c69707f9-39f3-443a-8785-e1e884483ec1",
   "metadata": {},
   "outputs": [],
   "source": []
  },
  {
   "cell_type": "code",
   "execution_count": 103,
   "id": "91269f3b",
   "metadata": {},
   "outputs": [
    {
     "data": {
      "text/plain": [
       "ObjectApiResponse({'acknowledged': True, 'shards_acknowledged': True, 'index': 'course-questions'})"
      ]
     },
     "execution_count": 103,
     "metadata": {},
     "output_type": "execute_result"
    }
   ],
   "source": [
    "#CREATING INDICES\n",
    "#they are saved permanently, so you have to run it only 1 time, no need to rerun after power-up\n",
    "\n",
    "index_settings = {\n",
    "        \"settings\": {\n",
    "            \"number_of_shards\": 1,\n",
    "            \"number_of_replicas\": 0\n",
    "        },\n",
    "        \"mappings\": {\n",
    "            \"properties\": {\n",
    "                \"text\": {\"type\": \"text\"},\n",
    "                \"section\": {\"type\": \"text\"},\n",
    "                \"question\": {\"type\": \"text\"},\n",
    "                \"course\": {\"type\": \"keyword\"} \n",
    "            }\n",
    "        }\n",
    "    }\n",
    "    \n",
    "\n",
    "    \n",
    "es_client.indices.create(index=index_name, body=index_settings)\n",
    "#es_client.indices.delete(index=index_name)"
   ]
  },
  {
   "cell_type": "code",
   "execution_count": 110,
   "id": "a42b6a9b-5701-4a02-bd67-94aa4de23e6d",
   "metadata": {},
   "outputs": [],
   "source": [
    "#\"filter\" chooose the document that match with the \"course\"\n",
    "#\"question^3\" means that the field is 3 times more important than the other\n",
    "#\"size\" is the number of document retrieve\n",
    "\n",
    "\n",
    "def elastic_search(query, index_name = \"course-questions\"):\n",
    "    search_query = {\n",
    "        \"size\": 5,\n",
    "        \"query\": {\n",
    "            \"bool\": {\n",
    "                \"must\": {\n",
    "                    \"multi_match\": {\n",
    "                        \"query\": query,\n",
    "                        \"fields\": [\"question^3\", \"text\", \"section\"],\n",
    "                        \"type\": \"best_fields\"\n",
    "                    }\n",
    "                },\n",
    "#                \"filter\": {\n",
    "#                    \"term\": {\n",
    "#                        \"course\": \"data-engineering-zoomcamp\"\n",
    "#                    }\n",
    "#                }\n",
    "            }\n",
    "        }\n",
    "    }\n",
    "\n",
    "    response = es_client.search(index=index_name, body=search_query)\n",
    "    \n",
    "    result_docs = []\n",
    "    \n",
    "    for hit in response['hits']['hits']:\n",
    "        result_docs.append(hit['_source'])\n",
    "    \n",
    "    return result_docs"
   ]
  },
  {
   "cell_type": "code",
   "execution_count": 112,
   "id": "5c8f0634",
   "metadata": {},
   "outputs": [],
   "source": [
    "results = elastic_search(query,index_name)"
   ]
  },
  {
   "cell_type": "code",
   "execution_count": 113,
   "id": "8d84499d-c413-4c8d-9be3-b42d3fa598a5",
   "metadata": {},
   "outputs": [
    {
     "data": {
      "text/plain": [
       "[{'text': 'Yes, you can. You won’t be able to submit some of the homeworks, but you can still take part in the course.\\nIn order to get a certificate, you need to submit 2 out of 3 course projects and review 3 peers’ Projects by the deadline. It means that if you join the course at the end of November and manage to work on two projects, you will still be eligible for a certificate.',\n",
       "  'section': 'General course-related questions',\n",
       "  'question': 'The course has already started. Can I still join it?',\n",
       "  'course': 'machine-learning-zoomcamp'},\n",
       " {'text': \"Yes, even if you don't register, you're still eligible to submit the homeworks.\\nBe aware, however, that there will be deadlines for turning in the final projects. So don't leave everything for the last minute.\",\n",
       "  'section': 'General course-related questions',\n",
       "  'question': 'Course - Can I still join the course after the start date?',\n",
       "  'course': 'data-engineering-zoomcamp'},\n",
       " {'text': 'You can start by installing and setting up all the dependencies and requirements:\\nGoogle cloud account\\nGoogle Cloud SDK\\nPython 3 (installed with Anaconda)\\nTerraform\\nGit\\nLook over the prerequisites and syllabus to see if you are comfortable with these subjects.',\n",
       "  'section': 'General course-related questions',\n",
       "  'question': 'Course - What can I do before the course starts?',\n",
       "  'course': 'data-engineering-zoomcamp'},\n",
       " {'text': 'Yes, we will keep all the materials after the course finishes, so you can follow the course at your own pace after it finishes.\\nYou can also continue looking at the homeworks and continue preparing for the next cohort. I guess you can also start working on your final capstone project.',\n",
       "  'section': 'General course-related questions',\n",
       "  'question': 'Course - Can I follow the course after it finishes?',\n",
       "  'course': 'data-engineering-zoomcamp'},\n",
       " {'text': \"Yes! We'll cover some linear algebra in the course, but in general, there will be very few formulas, mostly code.\\nHere are some interesting videos covering linear algebra that you can already watch: ML Zoomcamp 1.8 - Linear Algebra Refresher from Alexey Grigorev or the excellent playlist from 3Blue1Brown Vectors | Chapter 1, Essence of linear algebra. Never hesitate to ask the community for help if you have any question.\\n(Mélanie Fouesnard)\",\n",
       "  'section': 'General course-related questions',\n",
       "  'question': \"I don't know math. Can I take the course?\",\n",
       "  'course': 'machine-learning-zoomcamp'}]"
      ]
     },
     "execution_count": 113,
     "metadata": {},
     "output_type": "execute_result"
    }
   ],
   "source": [
    "results\n",
    "\n"
   ]
  },
  {
   "cell_type": "code",
   "execution_count": null,
   "id": "4ad7d82e-a59a-48f8-b0c3-4aad37ec2a80",
   "metadata": {},
   "outputs": [],
   "source": [
    "es_client.ping()\n"
   ]
  },
  {
   "cell_type": "code",
   "execution_count": null,
   "id": "edecc19b-9d0d-4020-b56f-eefcfad953a4",
   "metadata": {},
   "outputs": [],
   "source": [
    "print(es_client.search(index=index_name, body={ \n",
    "        \"size\": 1000,  # Puoi modificare questo valore in base alle tue esigenze\n",
    "        \"query\": {\n",
    "            \"bool\": {\n",
    "                \"filter\": {\n",
    "                    \"term\": {\n",
    "                        \"course\": \"data-engineering-zoomcamp\"\n",
    "                    }\n",
    "                }\n",
    "            }\n",
    "        }\n",
    "}\n",
    "                      ))"
   ]
  },
  {
   "cell_type": "code",
   "execution_count": null,
   "id": "4428778d-28d9-4dfd-91d3-339288dc8473",
   "metadata": {},
   "outputs": [],
   "source": [
    "\n",
    "print(es_client.search(index=index_name, body={ \n",
    "        \"size\": 1000,  # Puoi modificare questo valore in base alle tue esigenze\n",
    "        \"query\": {\n",
    "            \"match_all\": {}\n",
    "        }\n",
    "    })['hits']['hits'])"
   ]
  },
  {
   "cell_type": "code",
   "execution_count": 101,
   "id": "4d3f9dd1-e8c6-4b29-875e-ab130e79b623",
   "metadata": {},
   "outputs": [
    {
     "data": {
      "text/plain": [
       "ObjectApiResponse({'course-questions': {'mappings': {'properties': {'course': {'type': 'text', 'fields': {'keyword': {'type': 'keyword', 'ignore_above': 256}}}, 'question': {'type': 'text', 'fields': {'keyword': {'type': 'keyword', 'ignore_above': 256}}}, 'section': {'type': 'text', 'fields': {'keyword': {'type': 'keyword', 'ignore_above': 256}}}, 'text': {'type': 'text', 'fields': {'keyword': {'type': 'keyword', 'ignore_above': 256}}}}}}})"
      ]
     },
     "execution_count": 101,
     "metadata": {},
     "output_type": "execute_result"
    }
   ],
   "source": [
    "mapping = es_client.indices.get_mapping(index=index_name)\n",
    "\n",
    "mapping"
   ]
  },
  {
   "cell_type": "code",
   "execution_count": 102,
   "id": "34c12987-86af-41f0-8b38-3b5d5935a5c1",
   "metadata": {},
   "outputs": [
    {
     "data": {
      "text/plain": [
       "ObjectApiResponse({'acknowledged': True})"
      ]
     },
     "execution_count": 102,
     "metadata": {},
     "output_type": "execute_result"
    }
   ],
   "source": [
    "es_client.indices.delete(index=index_name)"
   ]
  }
 ],
 "metadata": {
  "kernelspec": {
   "display_name": "Python 3 (ipykernel)",
   "language": "python",
   "name": "python3"
  },
  "language_info": {
   "codemirror_mode": {
    "name": "ipython",
    "version": 3
   },
   "file_extension": ".py",
   "mimetype": "text/x-python",
   "name": "python",
   "nbconvert_exporter": "python",
   "pygments_lexer": "ipython3",
   "version": "3.12.1"
  }
 },
 "nbformat": 4,
 "nbformat_minor": 5
}
