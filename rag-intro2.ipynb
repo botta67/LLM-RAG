{
 "cells": [
  {
   "cell_type": "code",
   "execution_count": 36,
   "id": "1e42dbce",
   "metadata": {},
   "outputs": [],
   "source": [
    "#cose da eseguire\n",
    "#in un terminale (1) -> docker-compose up\n",
    "#in un altro terminale (2) -> docker exec -it ollama bash\n",
    "#nel terminale 2 -> ollama pull phi3\n"
   ]
  },
  {
   "cell_type": "code",
   "execution_count": null,
   "id": "b606417e",
   "metadata": {},
   "outputs": [],
   "source": [
    "!pip install elasticsearch tqdm openai"
   ]
  },
  {
   "cell_type": "code",
   "execution_count": 2,
   "id": "b8019fc2",
   "metadata": {},
   "outputs": [],
   "source": [
    "from openai import OpenAI\n",
    "\n",
    "client = OpenAI(\n",
    "    base_url='http://localhost:11434/v1/',\n",
    "    api_key='ollama',\n",
    ")"
   ]
  },
  {
   "cell_type": "code",
   "execution_count": 3,
   "id": "762cff2a",
   "metadata": {},
   "outputs": [],
   "source": [
    "import json\n",
    "\n",
    "#create the docs_raw variable from the .json file\n",
    "with open('documents.json','rt') as f_in:\n",
    "    docs_raw = json.load(f_in)\n",
    "\n",
    "documents = []\n",
    "\n",
    "for course_dict in docs_raw:\n",
    "    for doc in course_dict['documents']:\n",
    "        doc['course'] = course_dict['course']\n",
    "        documents.append(doc)\n",
    "        "
   ]
  },
  {
   "cell_type": "code",
   "execution_count": 4,
   "id": "b8305f61-b9ee-4f28-b325-f6b71716382f",
   "metadata": {},
   "outputs": [],
   "source": [
    "def build_prompt(query,search_results):\n",
    "    prompt_template=\"\"\"\n",
    "    You're a course teaching assistant. Answer the QUESTION based on the CONTEXT from the FAQ database.\n",
    "    Use only the facts from the CONTEXT when answering the QUESTION.\n",
    "    If the CONTEXT doesn't cointain the answer, output NONE.\n",
    "\n",
    "    QUESTION: {question}\n",
    "\n",
    "    CONTEXT:\n",
    "    {context}\n",
    "    \"\"\"\n",
    "\n",
    "    \n",
    "    context = \"\"\n",
    "\n",
    "    for doc in search_results:\n",
    "        context= context + f\"section: {doc['section']}\\n\\nquestion: {doc['question']}\\n\\nanswer: {doc['text']}\\n\\n\"\n",
    "\n",
    "    prompt = prompt_template.format(question=query,context=context)\n",
    "    return prompt"
   ]
  },
  {
   "cell_type": "code",
   "execution_count": 5,
   "id": "6cb0ce1c-793b-4554-a768-d8412460ded1",
   "metadata": {},
   "outputs": [],
   "source": [
    "def llm(prompt):\n",
    "\n",
    "    response=client.chat.completions.create(\n",
    "        model='phi3',\n",
    "        messages=[{\"role\": \"user\", \"content\":prompt}]\n",
    "    )\n",
    "    return response.choices[0].message.content\n",
    "    #import ollama\n",
    "    #response = ollama.generate(model=\"gemma:2b\", prompt=prompt)\n",
    "    #return response"
   ]
  },
  {
   "cell_type": "code",
   "execution_count": 46,
   "id": "f3a7bf5e-a31c-4747-bbc6-ddde30e372ec",
   "metadata": {},
   "outputs": [
    {
     "name": "stdout",
     "output_type": "stream",
     "text": [
      "Yes, you can still enroll in the course after the start date. You will be able to submit homeworks and continue working on the final project at your own pace after it finishes.\n"
     ]
    }
   ],
   "source": [
    "print(response['response'])"
   ]
  },
  {
   "cell_type": "code",
   "execution_count": 6,
   "id": "e9da01af-ed67-4ae8-bf0e-5fe2d94e8bad",
   "metadata": {},
   "outputs": [],
   "source": [
    "query = \"the course has already started, can I still enroll?\"\n"
   ]
  },
  {
   "cell_type": "code",
   "execution_count": 8,
   "id": "d12d0c25-deb8-4bc2-a77a-32ae659f3892",
   "metadata": {},
   "outputs": [],
   "source": [
    "def rag(query):\n",
    "    results = search_elastic(query)\n",
    "    prompt = build_prompt(query,results)\n",
    "    response = llm(prompt)\n",
    "    return response['response']"
   ]
  },
  {
   "cell_type": "code",
   "execution_count": 3,
   "id": "3dd893c7-0947-4796-922e-3e1727f1cd2a",
   "metadata": {},
   "outputs": [
    {
     "ename": "NameError",
     "evalue": "name 'rag' is not defined",
     "output_type": "error",
     "traceback": [
      "\u001b[0;31m---------------------------------------------------------------------------\u001b[0m",
      "\u001b[0;31mNameError\u001b[0m                                 Traceback (most recent call last)",
      "Cell \u001b[0;32mIn[3], line 1\u001b[0m\n\u001b[0;32m----> 1\u001b[0m answer \u001b[38;5;241m=\u001b[39m \u001b[43mrag\u001b[49m(query)\n\u001b[1;32m      2\u001b[0m \u001b[38;5;28mprint\u001b[39m(answer)\n",
      "\u001b[0;31mNameError\u001b[0m: name 'rag' is not defined"
     ]
    }
   ],
   "source": [
    "answer = rag(query)\n",
    "print(answer)"
   ]
  },
  {
   "cell_type": "code",
   "execution_count": 21,
   "id": "6c5ea710-25e5-42b9-b25a-27747056020b",
   "metadata": {},
   "outputs": [
    {
     "name": "stdout",
     "output_type": "stream",
     "text": [
      "Filesystem      Size  Used Avail Use% Mounted on\n",
      "overlay          32G   26G  3.8G  88% /\n",
      "tmpfs            64M     0   64M   0% /dev\n",
      "shm              64M     0   64M   0% /dev/shm\n",
      "/dev/root        29G  9.3G   20G  33% /vscode\n",
      "/dev/loop5       32G   26G  3.8G  88% /workspaces\n",
      "/dev/sdb1       118G   32G   81G  28% /tmp\n"
     ]
    }
   ],
   "source": [
    "!df -h"
   ]
  },
  {
   "cell_type": "code",
   "execution_count": 23,
   "id": "f6673c4d-6dac-46cd-a7fc-24748411326a",
   "metadata": {},
   "outputs": [
    {
     "name": "stdout",
     "output_type": "stream",
     "text": [
      "CONTAINER ID   IMAGE                                                 COMMAND                  CREATED      STATUS             PORTS                                                                                  NAMES\n",
      "bee1db99429f   ollama/ollama                                         \"/bin/ollama serve\"      3 days ago   Up About an hour   0.0.0.0:11434->11434/tcp, :::11434->11434/tcp                                          ollama\n",
      "1fbc4c376a5f   docker.elastic.co/elasticsearch/elasticsearch:8.4.3   \"/bin/tini -- /usr/l…\"   3 days ago   Up About an hour   0.0.0.0:9200->9200/tcp, :::9200->9200/tcp, 0.0.0.0:9300->9300/tcp, :::9300->9300/tcp   elasticsearch\n"
     ]
    }
   ],
   "source": [
    "!docker ps\n"
   ]
  },
  {
   "cell_type": "code",
   "execution_count": 14,
   "id": "203b43b8-ea80-4f41-a79d-4fd87e50f1a7",
   "metadata": {},
   "outputs": [
    {
     "name": "stdout",
     "output_type": "stream",
     "text": [
      "644K\t/workspaces/LLM-RAG/documents.json\n",
      "612K\t/workspaces/.codespaces/.persistedshare/vsserverterminallog.txt\n",
      "472K\t/workspaces/.codespaces/.persistedshare/vsserverhostlog.txt\n",
      "352K\t/workspaces/LLM-RAG/HUGGING_FACE_flan.ipynb\n",
      "304K\t/workspaces/.codespaces/shared/codespaceStatusTool.js\n",
      "232K\t/workspaces/LLM-RAG/.git/objects/pack/pack-26a05d4bb044a8d999de800b322d70bf8df23083.pack\n",
      "200K\t/workspaces/LLM-RAG/.ipynb_checkpoints/rag-intro2-checkpoint.ipynb\n",
      "16K\t/workspaces/LLM-RAG/rag-intro.ipynb\n",
      "16K\t/workspaces/.oryx/build.log\n",
      "12K\t/workspaces/LLM-RAG/rag-intro2.ipynb\n",
      "8.0K\t/workspaces/LLM-RAG/myollama.ipynb\n",
      "8.0K\t/workspaces/LLM-RAG/.git/objects/51/eba762f9584b199a3d89c05451a728ec62da71\n",
      "8.0K\t/workspaces/LLM-RAG/.git/hooks/pre-rebase.sample\n",
      "8.0K\t/workspaces/LLM-RAG/.git/hooks/fsmonitor-watchman.sample\n",
      "8.0K\t/workspaces/.codespaces/shared/read-config.json\n",
      "8.0K\t/workspaces/.codespaces/.persistedshare/devcontainers-cli/cache/env-loginInteractiveShell.json\n",
      "8.0K\t/workspaces/.codespaces/.persistedshare/creation.log\n",
      "4.0K\t/workspaces/LLM-RAG/qa_faq.py\n",
      "4.0K\t/workspaces/LLM-RAG/minsearch.py\n",
      "4.0K\t/workspaces/LLM-RAG/docker-compose.yaml\n"
     ]
    }
   ],
   "source": [
    "!find /workspaces -type f -exec du -h {} + | sort -hr | head -n 20\n"
   ]
  },
  {
   "cell_type": "code",
   "execution_count": 9,
   "id": "2d05a592-eb79-42eb-b04c-20b7b50aaafe",
   "metadata": {},
   "outputs": [
    {
     "name": "stdout",
     "output_type": "stream",
     "text": [
      "8.2G\t/usr\n",
      "5.4G\t/usr/local\n",
      "1.2G\t/usr/local/bin\n",
      "1.1G\t/usr/share\n",
      "1.1G\t/usr/local/python\n",
      "1.1G\t/usr/lib\n",
      "895M\t/usr/local/lib/ollama\n",
      "895M\t/usr/local/lib\n",
      "844M\t/usr/local/sdkman\n",
      "820M\t/usr/local/sdkman/candidates\n",
      "726M\t/usr/share/dotnet\n",
      "668M\t/usr/local/python/3.12.1\n",
      "664M\t/usr/local/sdkman/candidates/java\n",
      "613M\t/usr/local/python/3.12.1/lib\n",
      "577M\t/usr/lib/x86_64-linux-gnu\n",
      "532M\t/usr/local/python/3.12.1/lib/python3.12\n",
      "464M\t/usr/bin\n",
      "419M\t/usr/local/share\n",
      "402M\t/usr/local/share/nvm\n",
      "401M\t/usr/local/python/3.11.9\n",
      "sort: write failed: 'standard output': Broken pipe\n",
      "sort: write error\n"
     ]
    }
   ],
   "source": [
    "\n",
    "\n",
    "# Find large directories under /\n",
    "!du -h /usr | sort -hr | head -n 20\n"
   ]
  },
  {
   "cell_type": "markdown",
   "id": "1360433c",
   "metadata": {},
   "source": [
    "#elastic search"
   ]
  },
  {
   "cell_type": "code",
   "execution_count": 10,
   "id": "98f876b8-8518-493a-9231-a96b3eace33f",
   "metadata": {},
   "outputs": [
    {
     "name": "stderr",
     "output_type": "stream",
     "text": [
      "100%|██████████████████████████████████████████████████████████████████████| 948/948 [00:31<00:00, 30.42it/s]\n"
     ]
    }
   ],
   "source": [
    "from elasticsearch import Elasticsearch\n",
    "es_client = Elasticsearch('http://localhost:9200')\n",
    "index_name = \"course-questions\"\n",
    "import tqdm\n",
    "#dont run this cell several times, or (idk why) some doc duplicated. If so, try to delete the index ->\n",
    "#es_client.indices.delete(index=index_name)\n",
    "from tqdm.auto import tqdm\n",
    "for doc in tqdm(documents):\n",
    "    es_client.index(index=index_name, document=doc)\n",
    "\n"
   ]
  },
  {
   "cell_type": "code",
   "execution_count": null,
   "id": "91269f3b",
   "metadata": {},
   "outputs": [],
   "source": [
    "#CREATING INDICES\n",
    "#they are saved permanently, so you have to run it only 1 time, no need to rerun after power-up\n",
    "\n",
    "index_settings = {\n",
    "        \"settings\": {\n",
    "            \"number_of_shards\": 1,\n",
    "            \"number_of_replicas\": 0\n",
    "        },\n",
    "        \"mappings\": {\n",
    "            \"properties\": {\n",
    "                \"text\": {\"type\": \"text\"},\n",
    "                \"section\": {\"type\": \"text\"},\n",
    "                \"question\": {\"type\": \"text\"},\n",
    "                \"course\": {\"type\": \"keyword\"} \n",
    "            }\n",
    "        }\n",
    "    }\n",
    "    \n",
    "\n",
    "    \n",
    "es_client.indices.create(index=index_name, body=index_settings)"
   ]
  },
  {
   "cell_type": "code",
   "execution_count": 12,
   "id": "a42b6a9b-5701-4a02-bd67-94aa4de23e6d",
   "metadata": {},
   "outputs": [],
   "source": [
    "#\"filter\" chooose the document that match with the \"course\"\n",
    "#\"question^3\" means that the field is 3 times more important than the other\n",
    "#\"size\" is the number of document retrieve\n",
    "\n",
    "\n",
    "def search_elastic(query):\n",
    "    search_query = {\n",
    "    \"size\": 5,\n",
    "    \"query\": {\n",
    "        \"bool\": {\n",
    "            \"must\": {\n",
    "                \"multi_match\": {\n",
    "                    \"query\": query,\n",
    "                    \"fields\": [\"question^3\", \"text\", \"section\"],\n",
    "                    \"type\": \"best_fields\"\n",
    "                }\n",
    "            },\n",
    "            \"filter\": {\n",
    "                \"term\": {\n",
    "                    \"course\": \"data-engineering-zoomcamp\"\n",
    "                    }\n",
    "                }\n",
    "            }\n",
    "        }\n",
    "    }\n",
    "\n",
    "    response = es_client.search(index=index_name, body=search_query)\n",
    "    \n",
    "    results_doc = []\n",
    "    \n",
    "    for hit in response['hits']['hits']:\n",
    "        results_doc.append(hit['_source'])\n",
    "    \n",
    "    return results_doc"
   ]
  },
  {
   "cell_type": "code",
   "execution_count": 2,
   "id": "5c8f0634",
   "metadata": {},
   "outputs": [
    {
     "name": "stdout",
     "output_type": "stream",
     "text": [
      "/bin/bash: unistall: command not found\n"
     ]
    }
   ],
   "source": [
    "!unistall"
   ]
  }
 ],
 "metadata": {
  "kernelspec": {
   "display_name": "Python 3 (ipykernel)",
   "language": "python",
   "name": "python3"
  },
  "language_info": {
   "codemirror_mode": {
    "name": "ipython",
    "version": 3
   },
   "file_extension": ".py",
   "mimetype": "text/x-python",
   "name": "python",
   "nbconvert_exporter": "python",
   "pygments_lexer": "ipython3",
   "version": "3.12.1"
  }
 },
 "nbformat": 4,
 "nbformat_minor": 5
}
