{
 "cells": [
  {
   "cell_type": "code",
   "execution_count": null,
   "id": "fda31c15-e3b5-4643-a304-cb52616ed022",
   "metadata": {},
   "outputs": [],
   "source": [
    "#download the minsearch library\n",
    "#!wget https://raw.githubusercontent.com/alexeygrigorev/minsearch/main/minsearch.py"
   ]
  },
  {
   "cell_type": "code",
   "execution_count": null,
   "id": "237245ce-e164-4814-bc80-72f5fc396985",
   "metadata": {},
   "outputs": [],
   "source": [
    "import minsearch"
   ]
  },
  {
   "cell_type": "code",
   "execution_count": null,
   "id": "3c324beb-ce2c-490d-8788-022c75813ccc",
   "metadata": {
    "scrolled": true
   },
   "outputs": [],
   "source": [
    "#download documents\n",
    "#!wget https://github.com/alexeygrigorev/llm-rag-workshop/raw/main/notebooks/documents.json"
   ]
  },
  {
   "cell_type": "code",
   "execution_count": null,
   "id": "01571dd3-3d42-4bd8-934e-9e3a3dff582e",
   "metadata": {},
   "outputs": [],
   "source": [
    "import json"
   ]
  },
  {
   "cell_type": "code",
   "execution_count": null,
   "id": "4bf9152b-d289-49bb-8924-1147c5429703",
   "metadata": {},
   "outputs": [],
   "source": [
    "#create the docs_raw variable from the .json file\n",
    "with open('documents.json','rt') as f_in:\n",
    "    docs_raw = json.load(f_in)\n",
    "    "
   ]
  },
  {
   "cell_type": "code",
   "execution_count": null,
   "id": "35004085-ca62-48df-b03b-e8d0fe91309b",
   "metadata": {
    "scrolled": true
   },
   "outputs": [],
   "source": [
    "docs_raw"
   ]
  },
  {
   "cell_type": "code",
   "execution_count": null,
   "id": "d0b3ff34-d96e-41d6-be07-685add82a21c",
   "metadata": {},
   "outputs": [],
   "source": [
    "documents = []\n",
    "\n",
    "for course_dict in docs_raw:\n",
    "    for doc in course_dict['documents']:\n",
    "        doc['course'] = course_dict['course']\n",
    "        documents.append(doc)\n",
    "        "
   ]
  },
  {
   "cell_type": "code",
   "execution_count": null,
   "id": "1e93e6fa-689d-462e-9389-f52b9654951f",
   "metadata": {},
   "outputs": [],
   "source": [
    "documents[0]"
   ]
  },
  {
   "cell_type": "code",
   "execution_count": null,
   "id": "043a5ab5-208e-46e4-b5e0-8932c7bbfce3",
   "metadata": {},
   "outputs": [],
   "source": [
    "#make the index\n",
    "index = minsearch.Index(\n",
    "    text_fields=[\"question\", \"text\", \"section\"],\n",
    "    keyword_fields = [\"course\"]\n",
    ")\n",
    "\n"
   ]
  },
  {
   "cell_type": "code",
   "execution_count": null,
   "id": "7112c69a-6d6e-4bdc-80be-bb810f263daf",
   "metadata": {},
   "outputs": [],
   "source": [
    "index.fit(documents)"
   ]
  },
  {
   "cell_type": "code",
   "execution_count": null,
   "id": "3c17c122-1c46-4a10-a297-b752ebe42b3d",
   "metadata": {},
   "outputs": [],
   "source": [
    "#you need to start a ollama client, doing this ->\n",
    "#ollama serve\n",
    "\n",
    "#to get a model ->\n",
    "#ollama pull name_model\n",
    "import ollama\n"
   ]
  },
  {
   "cell_type": "code",
   "execution_count": null,
   "id": "e88b51bf-f523-46fb-bc8d-bf058f88c274",
   "metadata": {},
   "outputs": [],
   "source": [
    "#search function\n",
    "\n",
    "def search(query):\n",
    "    #when we think that one of the fields is more important than others, we can boost this field\n",
    "    boost = {'question': 3.0, 'section': 0.5}\n",
    "    #the question field is 3 times more important than text or section\n",
    "\n",
    "    #if you want more precision, increase the num_results\n",
    "    results = index.search(\n",
    "        query=query,\n",
    "        boost_dict=boost,\n",
    "        num_results=5,\n",
    "        filter_dict={'course': 'data-engineering-zoomcamp'}\n",
    "    )\n",
    "    return results\n"
   ]
  },
  {
   "cell_type": "code",
   "execution_count": null,
   "id": "103d6258-15c4-4e73-ae54-f2d7e4687382",
   "metadata": {},
   "outputs": [],
   "source": []
  },
  {
   "cell_type": "code",
   "execution_count": 14,
   "id": "b8305f61-b9ee-4f28-b325-f6b71716382f",
   "metadata": {},
   "outputs": [],
   "source": [
    "def build_prompt(query,search_results):\n",
    "    prompt_template=\"\"\"\n",
    "    You're a course teaching assistant. Answer the QUESTION based on the CONTEXT from the FAQ database.\n",
    "    Use only the facts from the CONTEXT when answering the QUESTION.\n",
    "    If the CONTEXT doesn't cointain the answer, output NONE.\n",
    "\n",
    "    QUESTION: {question}\n",
    "\n",
    "    CONTEXT:\n",
    "    {context}\n",
    "    \"\"\"\n",
    "\n",
    "    \n",
    "    context = \"\"\n",
    "\n",
    "    for doc in search_results:\n",
    "        context= context + f\"section: {doc['section']}\\n\\nquestion: {doc['question']}\\n\\nanswer: {doc['text']}\\n\\n\"\n",
    "\n",
    "    prompt = prompt_template.format(question=query,context=context)\n",
    "    return prompt"
   ]
  },
  {
   "cell_type": "code",
   "execution_count": 13,
   "id": "6cb0ce1c-793b-4554-a768-d8412460ded1",
   "metadata": {},
   "outputs": [],
   "source": [
    "def llm(prompt):\n",
    "    import ollama\n",
    "    response = ollama.generate(model=\"gemma:2b\", prompt=prompt)\n",
    "    return response"
   ]
  },
  {
   "cell_type": "code",
   "execution_count": null,
   "id": "f3a7bf5e-a31c-4747-bbc6-ddde30e372ec",
   "metadata": {},
   "outputs": [],
   "source": [
    "print(response['response'])"
   ]
  },
  {
   "cell_type": "code",
   "execution_count": 17,
   "id": "e9da01af-ed67-4ae8-bf0e-5fe2d94e8bad",
   "metadata": {},
   "outputs": [],
   "source": [
    "query = \"the course has already started, can I still enroll?\"\n"
   ]
  },
  {
   "cell_type": "code",
   "execution_count": null,
   "id": "d12d0c25-deb8-4bc2-a77a-32ae659f3892",
   "metadata": {},
   "outputs": [],
   "source": [
    "def rag(query):\n",
    "    results = search_elastic(query)\n",
    "    prompt = build_prompt(query,results)\n",
    "    response = llm(prompt)\n",
    "    return response['response']"
   ]
  },
  {
   "cell_type": "code",
   "execution_count": null,
   "id": "3dd893c7-0947-4796-922e-3e1727f1cd2a",
   "metadata": {},
   "outputs": [],
   "source": [
    "answer = rag(query)\n",
    "print(answer)"
   ]
  },
  {
   "cell_type": "code",
   "execution_count": null,
   "id": "4cb7f12a-504e-4165-9a51-f6e2a295eb5d",
   "metadata": {},
   "outputs": [],
   "source": [
    "#DONT RUN THIS ON JUPYTER\n",
    "#before doing this, we need to start the elastic search client, on a command line->\n",
    "docker run -it \\\n",
    "    --rm \\\n",
    "    --name elasticsearch \\\n",
    "    -m 4GB \\\n",
    "    -p 9200:9200 \\\n",
    "    -p 9300:9300 \\\n",
    "    -e \"discovery.type=single-node\" \\\n",
    "    -e \"xpack.security.enabled=false\" \\\n",
    "    docker.elastic.co/elasticsearch/elasticsearch:8.4.3"
   ]
  },
  {
   "cell_type": "code",
   "execution_count": 20,
   "id": "98f876b8-8518-493a-9231-a96b3eace33f",
   "metadata": {},
   "outputs": [],
   "source": [
    "from elasticsearch import Elasticsearch\n",
    "es_client = Elasticsearch('http://localhost:9200')\n",
    "\n"
   ]
  },
  {
   "cell_type": "code",
   "execution_count": 12,
   "id": "a42b6a9b-5701-4a02-bd67-94aa4de23e6d",
   "metadata": {},
   "outputs": [],
   "source": [
    "#\"filter\" chooose the document that match with the \"course\"\n",
    "#\"question^3\" means that the field is 3 times more important than the other\n",
    "#\"size\" is the number of document retrieve\n",
    "\n",
    "\n",
    "def search_elastic(query):\n",
    "    search_query = {\n",
    "    \"size\": 5,\n",
    "    \"query\": {\n",
    "        \"bool\": {\n",
    "            \"must\": {\n",
    "                \"multi_match\": {\n",
    "                    \"query\": query,\n",
    "                    \"fields\": [\"question^3\", \"text\", \"section\"],\n",
    "                    \"type\": \"best_fields\"\n",
    "                }\n",
    "            },\n",
    "            \"filter\": {\n",
    "                \"term\": {\n",
    "                    \"course\": \"data-engineering-zoomcamp\"\n",
    "                    }\n",
    "                }\n",
    "            }\n",
    "        }\n",
    "    }\n",
    "\n",
    "    response = es_client.search(index=index_name, body=search_query)\n",
    "    \n",
    "    results_doc = []\n",
    "    \n",
    "    for hit in response['hits']['hits']:\n",
    "        results_doc.append(hit['_source'])\n",
    "    \n",
    "    return results_doc"
   ]
  },
  {
   "cell_type": "code",
   "execution_count": 21,
   "id": "58dfffc5-7892-4180-a00d-0a2abaaf8b06",
   "metadata": {},
   "outputs": [
    {
     "data": {
      "text/plain": [
       "[]"
      ]
     },
     "execution_count": 21,
     "metadata": {},
     "output_type": "execute_result"
    }
   ],
   "source": [
    "search_elastic(query)"
   ]
  },
  {
   "cell_type": "code",
   "execution_count": null,
   "id": "6fd7fad6-278b-48a8-bdb4-0b5eef838510",
   "metadata": {},
   "outputs": [],
   "source": [
    "#CREATING INDICES\n",
    "#they are saved permanently, so you have to run it only 1 time, no need to rerun after power-up\n",
    "\n",
    "index_settings = {\n",
    "        \"settings\": {\n",
    "            \"number_of_shards\": 1,\n",
    "            \"number_of_replicas\": 0\n",
    "        },\n",
    "        \"mappings\": {\n",
    "            \"properties\": {\n",
    "                \"text\": {\"type\": \"text\"},\n",
    "                \"section\": {\"type\": \"text\"},\n",
    "                \"question\": {\"type\": \"text\"},\n",
    "                \"course\": {\"type\": \"keyword\"} \n",
    "            }\n",
    "        }\n",
    "    }\n",
    "    \n",
    "index_name = \"course-questions\"\n",
    "    \n",
    "es_client.indices.create(index=index_name, body=index_settings)\n"
   ]
  },
  {
   "cell_type": "code",
   "execution_count": null,
   "id": "18cd0a85-d561-408b-b9cb-abd91424b7d5",
   "metadata": {},
   "outputs": [],
   "source": [
    "#dont run this cell several times, or (idk why) some doc duplicated. If so, try to delete the index ->\n",
    "#es_client.indices.delete(index=index_name)\n",
    "from tqdm.auto import tqdm\n",
    "for doc in tqdm(documents):\n",
    "    es_client.index(index=index_name, document=doc)"
   ]
  }
 ],
 "metadata": {
  "kernelspec": {
   "display_name": "Python 3 (ipykernel)",
   "language": "python",
   "name": "python3"
  },
  "language_info": {
   "codemirror_mode": {
    "name": "ipython",
    "version": 3
   },
   "file_extension": ".py",
   "mimetype": "text/x-python",
   "name": "python",
   "nbconvert_exporter": "python",
   "pygments_lexer": "ipython3",
   "version": "3.12.1"
  }
 },
 "nbformat": 4,
 "nbformat_minor": 5
}
