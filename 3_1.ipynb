{
 "cells": [
  {
   "cell_type": "code",
   "execution_count": 4,
   "metadata": {},
   "outputs": [],
   "source": [
    "import json\n",
    "\n",
    "#create the docs_raw variable from the .json file\n",
    "with open('documents.json','rt') as f_in:\n",
    "    docs_raw = json.load(f_in)\n",
    "\n",
    "documents = []\n",
    "\n",
    "\n",
    "#siccome elastic search vuole tutti i documenti su un livello, mettiamo ad ogni documento il suo corso\n",
    "#prima i documenti erano suddivisi in sezione, in base al corso\n",
    "#guarda le differenze tra docs_raw e documents\n",
    "for course_dict in docs_raw:\n",
    "    for doc in course_dict['documents']:\n",
    "        doc['course'] = course_dict['course']\n",
    "        documents.append(doc)"
   ]
  },
  {
   "cell_type": "code",
   "execution_count": null,
   "metadata": {},
   "outputs": [],
   "source": [
    "documents"
   ]
  },
  {
   "cell_type": "code",
   "execution_count": null,
   "metadata": {},
   "outputs": [],
   "source": [
    "pip install sentence_transformers==2.7.0"
   ]
  },
  {
   "cell_type": "code",
   "execution_count": 7,
   "metadata": {},
   "outputs": [],
   "source": [
    "from sentence_transformers import SentenceTransformer"
   ]
  },
  {
   "cell_type": "code",
   "execution_count": 9,
   "metadata": {},
   "outputs": [],
   "source": [
    "#this model has 768 length\n",
    "model = SentenceTransformer(\"all-mpnet-base-v2\")"
   ]
  },
  {
   "cell_type": "code",
   "execution_count": null,
   "metadata": {},
   "outputs": [],
   "source": [
    "model.encode(\"this is a simple sentence\")"
   ]
  },
  {
   "cell_type": "code",
   "execution_count": 15,
   "metadata": {},
   "outputs": [],
   "source": [
    "operations=[]\n",
    "\n",
    "for doc in documents:\n",
    "    doc[\"text_vector\"] = model.encode(doc[\"text\"]).tolist()\n",
    "    operations.append(doc)"
   ]
  },
  {
   "cell_type": "code",
   "execution_count": 18,
   "metadata": {},
   "outputs": [
    {
     "name": "stderr",
     "output_type": "stream",
     "text": [
      "huggingface/tokenizers: The current process just got forked, after parallelism has already been used. Disabling parallelism to avoid deadlocks...\n",
      "To disable this warning, you can either:\n",
      "\t- Avoid using `tokenizers` before the fork if possible\n",
      "\t- Explicitly set the environment variable TOKENIZERS_PARALLELISM=(true | false)\n"
     ]
    },
    {
     "name": "stdout",
     "output_type": "stream",
     "text": [
      "Requirement already satisfied: elasticsearch in /usr/local/python/3.12.1/lib/python3.12/site-packages (8.15.0)\n",
      "Requirement already satisfied: elastic-transport<9,>=8.13 in /usr/local/python/3.12.1/lib/python3.12/site-packages (from elasticsearch) (8.15.0)\n",
      "Requirement already satisfied: urllib3<3,>=1.26.2 in /home/codespace/.local/lib/python3.12/site-packages (from elastic-transport<9,>=8.13->elasticsearch) (2.2.2)\n",
      "Requirement already satisfied: certifi in /home/codespace/.local/lib/python3.12/site-packages (from elastic-transport<9,>=8.13->elasticsearch) (2024.7.4)\n",
      "Note: you may need to restart the kernel to use updated packages.\n"
     ]
    }
   ],
   "source": [
    "pip install elasticsearch"
   ]
  },
  {
   "cell_type": "code",
   "execution_count": 22,
   "metadata": {},
   "outputs": [
    {
     "data": {
      "text/plain": [
       "ObjectApiResponse({'name': 'd28c359d8359', 'cluster_name': 'docker-cluster', 'cluster_uuid': 'pVV6eBd3R_CG5STfsQChqw', 'version': {'number': '8.4.3', 'build_flavor': 'default', 'build_type': 'docker', 'build_hash': '42f05b9372a9a4a470db3b52817899b99a76ee73', 'build_date': '2022-10-04T07:17:24.662462378Z', 'build_snapshot': False, 'lucene_version': '9.3.0', 'minimum_wire_compatibility_version': '7.17.0', 'minimum_index_compatibility_version': '7.0.0'}, 'tagline': 'You Know, for Search'})"
      ]
     },
     "execution_count": 22,
     "metadata": {},
     "output_type": "execute_result"
    }
   ],
   "source": [
    "#initiate the elastic search connection\n",
    "from elasticsearch import Elasticsearch\n",
    "es_client = Elasticsearch('http://localhost:9200')\n",
    "es_client.info()\n"
   ]
  },
  {
   "cell_type": "code",
   "execution_count": 24,
   "metadata": {},
   "outputs": [],
   "source": [
    "#creating a mapping (aka index_settings). It defines how a document is stored and indexed\n",
    "index_settings = {\n",
    "        \"settings\": {\n",
    "            \"number_of_shards\": 1,\n",
    "            \"number_of_replicas\": 0\n",
    "        },\n",
    "        \"mappings\": {\n",
    "            \"properties\": {\n",
    "                \"text\": {\"type\": \"text\"},\n",
    "                \"section\": {\"type\": \"text\"},\n",
    "                \"question\": {\"type\": \"text\"},\n",
    "                \"course\": {\"type\": \"keyword\"},\n",
    "                #tipo -> dense_vector, dimensione -> 768, la metrica di similarità che andrà ad usare\n",
    "                \"text_vector\": {\"type\": \"dense_vector\", \"dims\": 768, \"index\": True, \"similarity\": \"cosine\"}\n",
    "            }\n",
    "        }\n",
    "    }\n"
   ]
  },
  {
   "cell_type": "code",
   "execution_count": 25,
   "metadata": {},
   "outputs": [
    {
     "data": {
      "text/plain": [
       "ObjectApiResponse({'acknowledged': True, 'shards_acknowledged': True, 'index': 'course-questions'})"
      ]
     },
     "execution_count": 25,
     "metadata": {},
     "output_type": "execute_result"
    }
   ],
   "source": [
    "index_name = \"course-questions\"\n",
    "\n",
    "es_client.indices.delete(index=index_name, ignore_unavailable=True)\n",
    "es_client.indices.create(index=index_name, body=index_settings)\n"
   ]
  },
  {
   "cell_type": "code",
   "execution_count": 26,
   "metadata": {},
   "outputs": [
    {
     "data": {
      "application/vnd.jupyter.widget-view+json": {
       "model_id": "52cde05aa33749478253caafbb360826",
       "version_major": 2,
       "version_minor": 0
      },
      "text/plain": [
       "  0%|          | 0/948 [00:00<?, ?it/s]"
      ]
     },
     "metadata": {},
     "output_type": "display_data"
    }
   ],
   "source": [
    "#add documents into index\n",
    "import tqdm\n",
    "#dont run this cell several times, or (idk why) some doc duplicated. If so, try to delete the index ->\n",
    "#es_client.indices.delete(index=index_name)\n",
    "from tqdm.auto import tqdm\n",
    "for doc in tqdm(documents):\n",
    "    try:\n",
    "        es_client.index(index=index_name, document=doc)\n",
    "    except Exception as e:\n",
    "        print(e)\n",
    "    \n",
    "    "
   ]
  },
  {
   "cell_type": "code",
   "execution_count": 36,
   "metadata": {},
   "outputs": [],
   "source": [
    "#create a query\n",
    "\n",
    "search_term = \"windows or mac?\"\n",
    "vector_search_term = model.encode(search_term)"
   ]
  },
  {
   "cell_type": "code",
   "execution_count": 38,
   "metadata": {},
   "outputs": [],
   "source": [
    "#il campo \"field\" serve per dire al VDB di andare a cercare nel suddetto campo\n",
    "#il campo \"k\" serve per cercare i k vettori più vicini alla query\n",
    "#il campo \"num_candidates\" serve per indicare in quanti documenti andrà fatta la ricerca\n",
    "\n",
    "query = {\n",
    "    \"field\": \"text_vector\",\n",
    "    \"query_vector\": vector_search_term,\n",
    "    \"k\": 5,\n",
    "    \"num_candidates\": 10000\n",
    "}"
   ]
  },
  {
   "cell_type": "code",
   "execution_count": 40,
   "metadata": {},
   "outputs": [
    {
     "data": {
      "text/plain": [
       "[{'_index': 'course-questions',\n",
       "  '_id': 'dxMy1pEBAs_YWaRzhNRK',\n",
       "  '_score': 0.7147919,\n",
       "  '_source': {'question': 'Environment - Is the course [Windows/mac/Linux/...] friendly?',\n",
       "   'course': 'data-engineering-zoomcamp',\n",
       "   'section': 'General course-related questions',\n",
       "   'text': 'Yes! Linux is ideal but technically it should not matter. Students last year used all 3 OSes successfully'}},\n",
       " {'_index': 'course-questions',\n",
       "  '_id': 'ihMy1pEBAs_YWaRz2df9',\n",
       "  '_score': 0.61347336,\n",
       "  '_source': {'question': 'WSL instructions',\n",
       "   'course': 'mlops-zoomcamp',\n",
       "   'section': 'Module 1: Introduction',\n",
       "   'text': 'If you wish to use WSL on your windows machine, here are the setup instructions:\\nCommand: Sudo apt install wget\\nGet Anaconda download address here. wget <download address>\\nTurn on Docker Desktop WFree Download | AnacondaSL2\\nCommand: git clone <github repository address>\\nVSCODE on WSL\\nJupyter: pip3 install jupyter\\nAdded by Gregory Morris (gwm1980@gmail.com)\\nAll in all softwares at one shop:\\nYou can use anaconda which has all built in services like pycharm, jupyter\\nAdded by Khaja Zaffer (khajazaffer@aln.iseg.ulisboa.pt)\\nFor windows “wsl --install” in Powershell\\nAdded by Vadim Surin (vdmsurin@gmai.com)'}},\n",
       " {'_index': 'course-questions',\n",
       "  '_id': 'SxMy1pEBAs_YWaRzt9Zr',\n",
       "  '_score': 0.6055558,\n",
       "  '_source': {'question': \"The answer I get for one of the homework questions doesn't match any of the options. What should I do?\",\n",
       "   'course': 'machine-learning-zoomcamp',\n",
       "   'section': '2. Machine Learning for Regression',\n",
       "   'text': 'That’s normal. We all have different environments: our computers have different versions of OS and different versions of libraries — even different versions of Python.\\nIf it’s the case, just select the option that’s closest to your answer'}},\n",
       " {'_index': 'course-questions',\n",
       "  '_id': 'pBMy1pEBAs_YWaRzwdYV',\n",
       "  '_score': 0.6028961,\n",
       "  '_source': {'question': 'How to install WSL on Windows 10 and 11 ?',\n",
       "   'course': 'machine-learning-zoomcamp',\n",
       "   'section': '5. Deploying Machine Learning Models',\n",
       "   'text': 'It is quite simple, and you can follow these instructions here:\\nhttps://www.youtube.com/watch?v=qYlgUDKKK5A&ab_channel=NeuralNine\\nMake sure that you have “Virtual Machine Platform” feature activated in your Windows “Features”. To do that, search “features” in the research bar and see if the checkbox is selected. You also need to make sure that your system (in the bios) is able to virtualize. This is usually the case.\\nIn the Microsoft Store: look for ‘Ubuntu’ or ‘Debian’ (or any linux distribution you want) and install it\\nOnce it is downloaded, open the app and choose a username and a password (secured one). When you type your password, nothing will show in the window, which is normal: the writing is invisible.\\nYou are now inside of your linux system. You can test some commands such as “pwd”. You are not in your Windows system.\\nTo go to your windows system: you need to go back two times with cd ../.. And then go to the “mnt” directory with cd mnt. If you list here your files, you will see your disks. You can move to the desired folder, for example here I moved to the ML_Zoomcamp folder:\\nPython should be already installed but you can check it by running sudo apt install python3 command.\\nYou can make your actual folder your default folder when you open your Ubuntu terminal with this command : echo \"cd ../../mnt/your/folder/path\" >> ~/.bashrc\\nYou can disable bell sounds (when you type something that does not exist for example) by modifying the inputrc file with this command: sudo vim /etc/inputrc\\nYou have to uncomment the set bell-style none line -> to do that, press the “i” keyboard letter (for insert) and go with your keyboard to this line. Delete the # and then press the Escape keyboard touch and finally press “:wq” to write (it saves your modifications) then quit.\\nYou can check that your modifications are taken into account by opening a new terminal (you can pin it to your task bar so you do not have to go to the Microsoft app each time).\\nYou will need to install pip by running this command sudo apt install python3-pip\\nNB: I had this error message when trying to install pipenv (https://github.com/microsoft/WSL/issues/5663):\\n/sbin/ldconfig.real: Can\\'t link /usr/lib/wsl/lib/libnvoptix_loader.so.1 to libnvoptix.so.1\\n/sbin/ldconfig.real: /usr/lib/wsl/lib/libcuda.so.1 is not a symbolic link\\nSo I had to create the following symbolic link:\\nsudo ln -s /usr/lib/wsl/lib/libcuda.so.1 /usr/lib64/libcuda.so\\n(Mélanie Fouesnard)'}},\n",
       " {'_index': 'course-questions',\n",
       "  '_id': 'aBMy1pEBAs_YWaRzgtR7',\n",
       "  '_score': 0.5985866,\n",
       "  '_source': {'question': 'Environment - Should I use my local machine, GCP, or GitHub Codespaces for my environment?',\n",
       "   'course': 'data-engineering-zoomcamp',\n",
       "   'section': 'General course-related questions',\n",
       "   'text': 'You can set it up on your laptop or PC if you prefer to work locally from your laptop or PC.\\nYou might face some challenges, especially for Windows users. If you face cnd2\\nIf you prefer to work on the local machine, you may start with the week 1 Introduction to Docker and follow through.\\nHowever, if you prefer to set up a virtual machine, you may start with these first:\\nUsing GitHub Codespaces\\nSetting up the environment on a cloudV Mcodespace\\nI decided to work on a virtual machine because I have different laptops & PCs for my home & office, so I can work on this boot camp virtually anywhere.'}}]"
      ]
     },
     "execution_count": 40,
     "metadata": {},
     "output_type": "execute_result"
    }
   ],
   "source": [
    "#let's search into VDB\n",
    "#il campo \"knn\" serve per indicare \n",
    "#il campo \"source\" serve per indicare quali campi si vuole nella risposta\n",
    "\n",
    "res = es_client.search(index=index_name, knn=query, source=[\"text\",\"section\",\"question\",\"course\"])\n",
    "res['hits']['hits']"
   ]
  },
  {
   "cell_type": "code",
   "execution_count": 45,
   "metadata": {},
   "outputs": [
    {
     "data": {
      "text/plain": [
       "[{'_shard': '[course-questions][0]',\n",
       "  '_node': 'jSbKn3OlSBaaJsNAgpI0DQ',\n",
       "  '_index': 'course-questions',\n",
       "  '_id': 'dxMy1pEBAs_YWaRzhNRK',\n",
       "  '_score': 1.4937059,\n",
       "  '_source': {'question': 'Environment - Is the course [Windows/mac/Linux/...] friendly?',\n",
       "   'course': 'data-engineering-zoomcamp',\n",
       "   'section': 'General course-related questions',\n",
       "   'text': 'Yes! Linux is ideal but technically it should not matter. Students last year used all 3 OSes successfully'},\n",
       "  '_explanation': {'value': 1.4937059,\n",
       "   'description': 'sum of:',\n",
       "   'details': [{'value': 0.7147919,\n",
       "     'description': 'within top k documents',\n",
       "     'details': []},\n",
       "    {'value': 0.778914,\n",
       "     'description': 'weight(course:data-engineering-zoomcamp in 35) [PerFieldSimilarity], result of:',\n",
       "     'details': [{'value': 0.778914,\n",
       "       'description': 'score(freq=1.0), computed as boost * idf * tf from:',\n",
       "       'details': [{'value': 2.2, 'description': 'boost', 'details': []},\n",
       "        {'value': 0.778914,\n",
       "         'description': 'idf, computed as log(1 + (N - n + 0.5) / (n + 0.5)) from:',\n",
       "         'details': [{'value': 435,\n",
       "           'description': 'n, number of documents containing term',\n",
       "           'details': []},\n",
       "          {'value': 948,\n",
       "           'description': 'N, total number of documents with field',\n",
       "           'details': []}]},\n",
       "        {'value': 0.45454544,\n",
       "         'description': 'tf, computed as freq / (freq + k1 * (1 - b + b * dl / avgdl)) from:',\n",
       "         'details': [{'value': 1.0,\n",
       "           'description': 'freq, occurrences of term within document',\n",
       "           'details': []},\n",
       "          {'value': 1.2,\n",
       "           'description': 'k1, term saturation parameter',\n",
       "           'details': []},\n",
       "          {'value': 0.75,\n",
       "           'description': 'b, length normalization parameter',\n",
       "           'details': []},\n",
       "          {'value': 1.0, 'description': 'dl, length of field', 'details': []},\n",
       "          {'value': 1.0,\n",
       "           'description': 'avgdl, average length of field',\n",
       "           'details': []}]}]}]}]}},\n",
       " {'_shard': '[course-questions][0]',\n",
       "  '_node': 'jSbKn3OlSBaaJsNAgpI0DQ',\n",
       "  '_index': 'course-questions',\n",
       "  '_id': 'aBMy1pEBAs_YWaRzgtR7',\n",
       "  '_score': 1.3775005,\n",
       "  '_source': {'question': 'Environment - Should I use my local machine, GCP, or GitHub Codespaces for my environment?',\n",
       "   'course': 'data-engineering-zoomcamp',\n",
       "   'section': 'General course-related questions',\n",
       "   'text': 'You can set it up on your laptop or PC if you prefer to work locally from your laptop or PC.\\nYou might face some challenges, especially for Windows users. If you face cnd2\\nIf you prefer to work on the local machine, you may start with the week 1 Introduction to Docker and follow through.\\nHowever, if you prefer to set up a virtual machine, you may start with these first:\\nUsing GitHub Codespaces\\nSetting up the environment on a cloudV Mcodespace\\nI decided to work on a virtual machine because I have different laptops & PCs for my home & office, so I can work on this boot camp virtually anywhere.'},\n",
       "  '_explanation': {'value': 1.3775005,\n",
       "   'description': 'sum of:',\n",
       "   'details': [{'value': 0.5985866,\n",
       "     'description': 'within top k documents',\n",
       "     'details': []},\n",
       "    {'value': 0.778914,\n",
       "     'description': 'weight(course:data-engineering-zoomcamp in 20) [PerFieldSimilarity], result of:',\n",
       "     'details': [{'value': 0.778914,\n",
       "       'description': 'score(freq=1.0), computed as boost * idf * tf from:',\n",
       "       'details': [{'value': 2.2, 'description': 'boost', 'details': []},\n",
       "        {'value': 0.778914,\n",
       "         'description': 'idf, computed as log(1 + (N - n + 0.5) / (n + 0.5)) from:',\n",
       "         'details': [{'value': 435,\n",
       "           'description': 'n, number of documents containing term',\n",
       "           'details': []},\n",
       "          {'value': 948,\n",
       "           'description': 'N, total number of documents with field',\n",
       "           'details': []}]},\n",
       "        {'value': 0.45454544,\n",
       "         'description': 'tf, computed as freq / (freq + k1 * (1 - b + b * dl / avgdl)) from:',\n",
       "         'details': [{'value': 1.0,\n",
       "           'description': 'freq, occurrences of term within document',\n",
       "           'details': []},\n",
       "          {'value': 1.2,\n",
       "           'description': 'k1, term saturation parameter',\n",
       "           'details': []},\n",
       "          {'value': 0.75,\n",
       "           'description': 'b, length normalization parameter',\n",
       "           'details': []},\n",
       "          {'value': 1.0, 'description': 'dl, length of field', 'details': []},\n",
       "          {'value': 1.0,\n",
       "           'description': 'avgdl, average length of field',\n",
       "           'details': []}]}]}]}]}},\n",
       " {'_shard': '[course-questions][0]',\n",
       "  '_node': 'jSbKn3OlSBaaJsNAgpI0DQ',\n",
       "  '_index': 'course-questions',\n",
       "  '_id': 'VBMy1pEBAs_YWaRzf9S5',\n",
       "  '_score': 0.778914,\n",
       "  '_source': {'question': 'Course - When will the course start?',\n",
       "   'course': 'data-engineering-zoomcamp',\n",
       "   'section': 'General course-related questions',\n",
       "   'text': \"The purpose of this document is to capture frequently asked technical questions\\nThe exact day and hour of the course will be 15th Jan 2024 at 17h00. The course will start with the first  “Office Hours'' live.1\\nSubscribe to course public Google Calendar (it works from Desktop only).\\nRegister before the course starts using this link.\\nJoin the course Telegram channel with announcements.\\nDon’t forget to register in DataTalks.Club's Slack and join the channel.\"},\n",
       "  '_explanation': {'value': 0.778914,\n",
       "   'description': 'sum of:',\n",
       "   'details': [{'value': 0.778914,\n",
       "     'description': 'weight(course:data-engineering-zoomcamp in 0) [PerFieldSimilarity], result of:',\n",
       "     'details': [{'value': 0.778914,\n",
       "       'description': 'score(freq=1.0), computed as boost * idf * tf from:',\n",
       "       'details': [{'value': 2.2, 'description': 'boost', 'details': []},\n",
       "        {'value': 0.778914,\n",
       "         'description': 'idf, computed as log(1 + (N - n + 0.5) / (n + 0.5)) from:',\n",
       "         'details': [{'value': 435,\n",
       "           'description': 'n, number of documents containing term',\n",
       "           'details': []},\n",
       "          {'value': 948,\n",
       "           'description': 'N, total number of documents with field',\n",
       "           'details': []}]},\n",
       "        {'value': 0.45454544,\n",
       "         'description': 'tf, computed as freq / (freq + k1 * (1 - b + b * dl / avgdl)) from:',\n",
       "         'details': [{'value': 1.0,\n",
       "           'description': 'freq, occurrences of term within document',\n",
       "           'details': []},\n",
       "          {'value': 1.2,\n",
       "           'description': 'k1, term saturation parameter',\n",
       "           'details': []},\n",
       "          {'value': 0.75,\n",
       "           'description': 'b, length normalization parameter',\n",
       "           'details': []},\n",
       "          {'value': 1.0, 'description': 'dl, length of field', 'details': []},\n",
       "          {'value': 1.0,\n",
       "           'description': 'avgdl, average length of field',\n",
       "           'details': []}]}]}]}]}},\n",
       " {'_shard': '[course-questions][0]',\n",
       "  '_node': 'jSbKn3OlSBaaJsNAgpI0DQ',\n",
       "  '_index': 'course-questions',\n",
       "  '_id': 'VRMy1pEBAs_YWaRzgNQU',\n",
       "  '_score': 0.778914,\n",
       "  '_source': {'question': 'Course - What are the prerequisites for this course?',\n",
       "   'course': 'data-engineering-zoomcamp',\n",
       "   'section': 'General course-related questions',\n",
       "   'text': 'GitHub - DataTalksClub data-engineering-zoomcamp#prerequisites'},\n",
       "  '_explanation': {'value': 0.778914,\n",
       "   'description': 'sum of:',\n",
       "   'details': [{'value': 0.778914,\n",
       "     'description': 'weight(course:data-engineering-zoomcamp in 1) [PerFieldSimilarity], result of:',\n",
       "     'details': [{'value': 0.778914,\n",
       "       'description': 'score(freq=1.0), computed as boost * idf * tf from:',\n",
       "       'details': [{'value': 2.2, 'description': 'boost', 'details': []},\n",
       "        {'value': 0.778914,\n",
       "         'description': 'idf, computed as log(1 + (N - n + 0.5) / (n + 0.5)) from:',\n",
       "         'details': [{'value': 435,\n",
       "           'description': 'n, number of documents containing term',\n",
       "           'details': []},\n",
       "          {'value': 948,\n",
       "           'description': 'N, total number of documents with field',\n",
       "           'details': []}]},\n",
       "        {'value': 0.45454544,\n",
       "         'description': 'tf, computed as freq / (freq + k1 * (1 - b + b * dl / avgdl)) from:',\n",
       "         'details': [{'value': 1.0,\n",
       "           'description': 'freq, occurrences of term within document',\n",
       "           'details': []},\n",
       "          {'value': 1.2,\n",
       "           'description': 'k1, term saturation parameter',\n",
       "           'details': []},\n",
       "          {'value': 0.75,\n",
       "           'description': 'b, length normalization parameter',\n",
       "           'details': []},\n",
       "          {'value': 1.0, 'description': 'dl, length of field', 'details': []},\n",
       "          {'value': 1.0,\n",
       "           'description': 'avgdl, average length of field',\n",
       "           'details': []}]}]}]}]}},\n",
       " {'_shard': '[course-questions][0]',\n",
       "  '_node': 'jSbKn3OlSBaaJsNAgpI0DQ',\n",
       "  '_index': 'course-questions',\n",
       "  '_id': 'VhMy1pEBAs_YWaRzgNQv',\n",
       "  '_score': 0.778914,\n",
       "  '_source': {'question': 'Course - Can I still join the course after the start date?',\n",
       "   'course': 'data-engineering-zoomcamp',\n",
       "   'section': 'General course-related questions',\n",
       "   'text': \"Yes, even if you don't register, you're still eligible to submit the homeworks.\\nBe aware, however, that there will be deadlines for turning in the final projects. So don't leave everything for the last minute.\"},\n",
       "  '_explanation': {'value': 0.778914,\n",
       "   'description': 'sum of:',\n",
       "   'details': [{'value': 0.778914,\n",
       "     'description': 'weight(course:data-engineering-zoomcamp in 2) [PerFieldSimilarity], result of:',\n",
       "     'details': [{'value': 0.778914,\n",
       "       'description': 'score(freq=1.0), computed as boost * idf * tf from:',\n",
       "       'details': [{'value': 2.2, 'description': 'boost', 'details': []},\n",
       "        {'value': 0.778914,\n",
       "         'description': 'idf, computed as log(1 + (N - n + 0.5) / (n + 0.5)) from:',\n",
       "         'details': [{'value': 435,\n",
       "           'description': 'n, number of documents containing term',\n",
       "           'details': []},\n",
       "          {'value': 948,\n",
       "           'description': 'N, total number of documents with field',\n",
       "           'details': []}]},\n",
       "        {'value': 0.45454544,\n",
       "         'description': 'tf, computed as freq / (freq + k1 * (1 - b + b * dl / avgdl)) from:',\n",
       "         'details': [{'value': 1.0,\n",
       "           'description': 'freq, occurrences of term within document',\n",
       "           'details': []},\n",
       "          {'value': 1.2,\n",
       "           'description': 'k1, term saturation parameter',\n",
       "           'details': []},\n",
       "          {'value': 0.75,\n",
       "           'description': 'b, length normalization parameter',\n",
       "           'details': []},\n",
       "          {'value': 1.0, 'description': 'dl, length of field', 'details': []},\n",
       "          {'value': 1.0,\n",
       "           'description': 'avgdl, average length of field',\n",
       "           'details': []}]}]}]}]}}]"
      ]
     },
     "execution_count": 45,
     "metadata": {},
     "output_type": "execute_result"
    }
   ],
   "source": [
    "#per fare una corretta ricerca semantica, dobbiamo andare a trasformare la nostra query in un vettore\n",
    "#quando facciamo una ricerca normale(non semantica), i risultati avranno uno score compreso tra 0 e 1\n",
    "\n",
    "\n",
    "knn_query = {\n",
    "    \"field\": \"text_vector\",\n",
    "    \"query_vector\": vector_search_term,\n",
    "    \"k\":5,\n",
    "    \"num_candidates\": 10000\n",
    "}\n",
    "\n",
    "#il campo \"explain\" serve per avere più informazioni su come lo score è calcolato\n",
    "#si può creare una propria scoring function\n",
    "response = es_client.search(\n",
    "    index=index_name,\n",
    "    query={\n",
    "        \"match\":{\n",
    "            \"course\": \"data-engineering-zoomcamp\"\n",
    "        },\n",
    "    },\n",
    "    knn=knn_query,\n",
    "    source=[\"text\",\"section\",\"question\",\"course\"],\n",
    "    size=5,\n",
    "    explain=True\n",
    ")\n",
    "\n",
    "response['hits']['hits']"
   ]
  },
  {
   "cell_type": "code",
   "execution_count": 42,
   "metadata": {},
   "outputs": [
    {
     "data": {
      "text/plain": [
       "ObjectApiResponse({'took': 20, 'timed_out': False, '_shards': {'total': 1, 'successful': 1, 'skipped': 0, 'failed': 0}, 'hits': {'total': {'value': 438, 'relation': 'eq'}, 'max_score': 1.4937059, 'hits': [{'_index': 'course-questions', '_id': 'dxMy1pEBAs_YWaRzhNRK', '_score': 1.4937059, '_source': {'text': 'Yes! Linux is ideal but technically it should not matter. Students last year used all 3 OSes successfully', 'section': 'General course-related questions', 'question': 'Environment - Is the course [Windows/mac/Linux/...] friendly?', 'course': 'data-engineering-zoomcamp', 'text_vector': [-0.026965461671352386, -0.000626126304268837, -0.01662949100136757, 0.05285150930285454, 0.05476527288556099, -0.03133990615606308, 0.029942581430077553, -0.04808562621474266, 0.04467551037669182, 0.005839474033564329, 0.016233040019869804, 0.012001154012978077, -0.031222281977534294, 0.016600528731942177, -0.04886901378631592, -0.06496307998895645, 0.046434223651885986, -0.009297756478190422, -0.0642528235912323, -0.01373267825692892, -0.015976183116436005, 0.008629541844129562, -0.024478990584611893, -0.0059806122444570065, 0.016313830390572548, -0.02634184993803501, -0.07652202248573303, 0.010045071132481098, -0.018078546971082687, 0.04254848510026932, 0.03507586196064949, 0.012675996869802475, -0.030976397916674614, 0.04693379998207092, 1.2424274018485448e-06, -0.023650256916880608, -0.014629297889769077, 0.028392381966114044, 0.029767775908112526, -0.005768696311861277, 0.03919139876961708, 0.05100737512111664, -0.029794247820973396, 0.0075928810983896255, -0.0642663985490799, 0.03239158168435097, 0.005012302193790674, -0.0394638366997242, 0.022885948419570923, -0.02040950022637844, -0.01802944205701351, -0.007738007232546806, -0.02915395423769951, 0.029805146157741547, -0.02208574488759041, 0.05983022600412369, -0.033023715019226074, -0.030654430389404297, 0.0824214369058609, -0.008697639219462872, -0.01042773574590683, -0.04607350751757622, 0.027204440906643867, -0.01269946526736021, -0.03224693238735199, 0.041647739708423615, 0.0005789243150502443, 0.010139718651771545, -0.08875063806772232, -0.012246975675225258, 0.013610769994556904, 0.04790499061346054, 0.014396833255887032, 0.008005678653717041, -0.005587373860180378, -0.015163116157054901, 0.012822781689465046, -0.030234193429350853, -0.0240629855543375, -0.03770884498953819, 0.020131997764110565, 0.013798700645565987, -0.005967654753476381, 0.015203939750790596, 0.030740492045879364, 0.07921034842729568, 0.009686687961220741, 0.02875138632953167, -0.007190173026174307, 0.023440992459654808, 0.01569961942732334, 0.04245630279183388, 0.008291597478091717, -0.0043051294051110744, -0.007038067560642958, -0.017312783747911453, -0.06540516763925552, 0.049499623477458954, -0.03671443462371826, -0.05935912951827049, -0.014266927726566792, -0.0355304479598999, 0.06266957521438599, -0.015187296085059643, 0.029306519776582718, -0.06045990064740181, -0.013421430252492428, 0.0658637061715126, 0.04656681418418884, 0.037365224212408066, 0.038399748504161835, 0.05515477806329727, -0.013193010352551937, 0.03241432458162308, -0.011356865055859089, 0.019383985549211502, -0.003028464037925005, 0.01956230401992798, 0.03360605239868164, -0.027997560799121857, 0.027251770719885826, 0.03789081424474716, -0.010338148102164268, 0.004180556163191795, -0.03858686983585358, 0.0661606639623642, 0.011927424930036068, 0.02834424003958702, 0.022036362439393997, -0.027952561154961586, 0.08107060194015503, -0.021983332931995392, -0.032338157296180725, -0.05885038152337074, 0.05120790749788284, 0.02559267356991768, 0.0012225831160321832, 0.05861198529601097, -0.0006521700997836888, 0.0378684364259243, -0.012606007046997547, -0.030835067853331566, 0.03063017502427101, 0.0033308870624750853, -0.05764181911945343, 0.003818986238911748, 0.00560538237914443, 0.05607397109270096, 0.012964442372322083, 0.021777354180812836, 0.05482451245188713, -0.03340999037027359, 0.03100447729229927, -0.08329825848340988, 0.01201024278998375, 0.026352643966674805, 0.0013138054637238383, -0.02253716066479683, 0.05120813846588135, 0.06791558116674423, -0.008840693160891533, 0.008719385601580143, -0.026427919045090675, 0.0015674002934247255, -0.025786543264985085, 0.009946538135409355, 0.052499108016490936, 0.010669139213860035, 0.015821265056729317, -0.003200833685696125, -0.055238187313079834, 0.06542418897151947, 0.0675467848777771, -0.03541789948940277, -0.021321741864085197, -0.0402027890086174, -0.021622778847813606, -0.01515966933220625, -0.024569401517510414, 0.007606020197272301, 0.07590769976377487, -0.0036994661204516888, 0.0011591548100113869, 0.0513266921043396, 0.04092201218008995, -0.013404471799731255, -0.03820352628827095, -0.035663802176713943, 0.06080607324838638, 0.03161107376217842, -0.03808395937085152, -0.01504463143646717, -0.02916526235640049, 0.006836705841124058, 0.022869301959872246, -0.03598269820213318, -0.04978432133793831, -0.0034604601096361876, 0.010742349550127983, -0.006153465248644352, -0.03484982252120972, -0.007405524142086506, 0.034144748002290726, 0.030857309699058533, -0.028416166082024574, -0.011114202439785004, 0.01549498550593853, -0.07099838554859161, -0.008952573873102665, 0.004208505153656006, 0.08858511596918106, -0.024806959554553032, 0.05971328169107437, 0.0010086033726111054, 0.026393001899123192, 0.04075417295098305, 0.017345253378152847, -0.013933785259723663, -0.007422366179525852, -0.0059439935721457005, -0.013965769670903683, 0.011870548129081726, -0.0370650440454483, 0.016266971826553345, 0.06321670860052109, 0.0672871544957161, -0.010177390649914742, 0.04634077847003937, -0.06603333353996277, 0.015129766426980495, -0.010289833880960941, -0.013164352625608444, 0.029779817909002304, 0.004652912728488445, -0.009363561868667603, -0.029013149440288544, -0.06406409293413162, -0.06864017993211746, 0.060269616544246674, 0.04007917270064354, -0.03731272369623184, 0.010946853086352348, 0.0017789677949622273, -0.06498689204454422, 0.04022504389286041, 0.0061715878546237946, 0.02415129542350769, 0.005664680618792772, -0.033002857118844986, -0.03247588872909546, -0.018218327313661575, 0.02075187675654888, -0.040407974272966385, 0.07266828417778015, 0.028186781331896782, -0.037334270775318146, -0.012661227025091648, 0.008729961700737476, -0.03363464027643204, -0.06506992876529694, 0.009777109138667583, 0.009194081649184227, 0.025916196405887604, -0.04917517304420471, 0.032951727509498596, -0.01074046641588211, 0.01591518148779869, -0.04363588988780975, 0.006951905786991119, 0.009753068909049034, -0.010071393102407455, -0.019035859033465385, -0.01076978724449873, 0.015217788517475128, -0.022945722565054893, -0.014939793385565281, 0.027360202744603157, 0.019415242597460747, -0.07074898481369019, 8.935520600061864e-05, -0.05054163187742233, 0.0099277812987566, 0.014028774574398994, -0.02413562685251236, -0.018340984359383583, -0.02060347981750965, 0.05510835349559784, -0.005859977565705776, 0.0562349297106266, 0.05610526725649834, 0.009038731455802917, 0.04922829195857048, 0.050808101892471313, 0.037029821425676346, -0.0006305381539277732, 0.011876625008881092, 0.03993416205048561, 0.017798535525798798, -0.05479990690946579, -0.051392294466495514, 0.05121023207902908, 0.039275385439395905, 0.0073357392102479935, 0.07803020626306534, 0.03776080906391144, -0.03885193541646004, 0.02327490597963333, -0.009807392954826355, -0.06662215292453766, -0.04489444941282272, -0.016568655148148537, -0.0024992837570607662, 0.00716404477134347, -0.06485313922166824, -0.03850872442126274, 0.04718941077589989, -0.044652946293354034, 0.058229960501194, 0.0005840302910655737, -0.03632306680083275, -0.008611426688730717, -0.02853640541434288, 0.04971740394830704, 0.013020293787121773, -0.03517680615186691, -0.012641077861189842, -0.02630680426955223, -0.016062026843428612, -0.04981893301010132, -0.039110902696847916, -0.043669506907463074, 0.01253148727118969, -0.009330451488494873, -0.09815167635679245, -0.004479514434933662, 0.01539914682507515, -0.030343549326062202, 0.03624396771192551, 0.03912251815199852, 0.010959313251078129, -0.06202385574579239, -0.019670918583869934, 0.04541672766208649, 0.018855329602956772, 0.039366044104099274, -0.03485008329153061, 0.016005659475922585, 0.03376402705907822, 0.008040918037295341, 0.022507067769765854, 0.02070140838623047, -7.762013410683721e-05, -0.018614010885357857, 0.0064445314928889275, 0.036273978650569916, 0.0057372162118554115, 0.0007238761754706502, -0.015374219976365566, -0.038979824632406235, -0.035521235316991806, -0.07308482378721237, -0.0107054952532053, -0.013639171607792377, -0.024719806388020515, 0.007467192132025957, -0.008564956486225128, 0.06639332324266434, 0.012403540313243866, 0.0160931758582592, -0.042704105377197266, -0.006868274416774511, 0.03242713585495949, -0.007830344140529633, 0.005697270389646292, -0.015929197892546654, -0.009685019962489605, -0.02390195243060589, -0.04252214357256889, -0.053501278162002563, 0.036680810153484344, 0.06689765304327011, -0.024635080248117447, 0.016152314841747284, 0.00539872981607914, 0.08182072639465332, 0.03576367348432541, 0.0011195567203685641, 0.02906087040901184, 0.08809506893157959, 0.01711837761104107, -0.02615613117814064, -0.026560267433524132, 0.0193418487906456, -0.08255844563245773, 0.02675941213965416, -0.0298040509223938, 0.02080349437892437, -0.01794702745974064, -0.0021169432438910007, 0.019966784864664078, 0.03902382031083107, -0.01716258004307747, -0.022325817495584488, -0.02616865560412407, 0.048953231424093246, -0.05018068104982376, 0.025657029822468758, -0.024524889886379242, -0.038626182824373245, -0.020113352686166763, -0.029667286202311516, 0.031216135248541832, -0.062739297747612, 0.01037988904863596, -0.017898567020893097, -0.020073719322681427, -0.02481371909379959, -0.052407123148441315, -0.069944366812706, 0.016343403607606888, 0.04562244191765785, 0.03244531899690628, 0.03621664270758629, -0.0688718855381012, 0.012164520099759102, -0.015652097761631012, -0.06982282549142838, -0.01744094304740429, 0.026018943637609482, -0.036197636276483536, 0.031381044536828995, -0.03359658643603325, 0.007299347780644894, -0.08820509910583496, 0.009748689830303192, 0.05213135853409767, 0.04180782288312912, -0.03343741223216057, 0.001232174807228148, 0.08657202124595642, -0.07575622946023941, -0.004997368901968002, 0.038227710872888565, -0.03599255159497261, -0.006087607704102993, 0.01211766991764307, 0.049052394926548004, 0.0033387597650289536, -0.057082708925008774, 0.04358052834868431, 0.05828702077269554, -0.05237960442900658, 0.026879914104938507, -0.0244065523147583, 0.03543155640363693, 0.007114383392035961, -0.03573672100901604, 0.061608295887708664, -0.03276319056749344, 0.03493065387010574, 0.03431081771850586, 0.006519146263599396, -0.06998781859874725, 0.021133841946721077, 0.04771852865815163, 0.014873499982059002, -0.005865755490958691, 0.06940992921590805, 0.0009684253600426018, 0.012343804351985455, 0.008270147256553173, -0.0333402194082737, 0.031856030225753784, 0.014989465475082397, -0.009651992470026016, -0.01763707585632801, -0.0013522041263058782, 0.06717350333929062, -0.04744575172662735, -0.03943821042776108, 0.0183359757065773, -0.019863786175847054, -0.025586452335119247, -0.05037541687488556, -0.015210682526230812, 0.006159848067909479, -0.015529400669038296, -0.023754602298140526, 0.01798594556748867, -0.04030817747116089, -0.02720617689192295, 0.062080495059490204, 0.005937937647104263, -0.02479713223874569, 0.019897591322660446, -0.03174460306763649, -0.030005766078829765, 0.06688892096281052, -0.030072370544075966, 0.09049252420663834, 0.006031970959156752, 0.020504407584667206, -0.030991176143288612, 0.00018346037541050464, -0.0100707421079278, 0.039836399257183075, -0.05915764346718788, 0.03239927813410759, -0.04056962579488754, 0.04003682732582092, -0.009422608651220798, -0.018165120854973793, 0.01140245795249939, -0.0008968824986368418, -0.02345861867070198, 0.002061265055090189, -0.04326682165265083, 0.032797351479530334, -0.04411663860082626, -0.03889081999659538, 0.0373276062309742, -0.04547341167926788, 0.009544783271849155, 0.008256666362285614, -0.05615789815783501, 0.014675796963274479, 0.012075476348400116, -0.027631377801299095, -0.007486843038350344, 0.015592314302921295, 0.023328837007284164, -0.06082460656762123, -0.03915087506175041, -0.0020849783904850483, -0.02471662312746048, 0.004385666456073523, -0.005545784719288349, -0.030118053779006004, -0.02682974375784397, 0.011542994529008865, 0.05606847628951073, -0.03989233821630478, 0.0003951149701606482, 0.0009422525181435049, 0.0004372395051177591, 0.02255968749523163, 0.04922018200159073, 0.029861951246857643, 0.060457468032836914, 0.04581066220998764, -0.002318550832569599, 0.028083214536309242, 0.009207340888679028, 0.03196272626519203, -0.04477783665060997, -4.0254965674382474e-33, -0.008467056788504124, 0.06912277638912201, 0.025248508900403976, -0.02496780827641487, 0.038109272718429565, 0.02375691570341587, 0.026347635313868523, 0.0027202388737350702, -0.09021825343370438, -0.0021031461656093597, -0.045108553022146225, 0.0665469691157341, 0.046150825917720795, 0.02927306480705738, -0.0193987637758255, 0.014429996721446514, 0.024188483133912086, 0.06864265352487564, 0.02155652642250061, -0.03823601081967354, 0.013278966769576073, 0.051085684448480606, 0.03017951361835003, -0.006152421701699495, 0.06112957000732422, -0.004967451095581055, 0.03096609003841877, -0.06326355040073395, -0.030796561390161514, -0.02345498651266098, -0.0011775728780776262, -0.0026898460928350687, 0.024545803666114807, 0.002949952380731702, 0.025886017829179764, -0.015407239086925983, 0.03514109551906586, 0.03710516169667244, -0.03517141565680504, 0.09956251084804535, 0.03386855125427246, 0.022542553022503853, 0.09548074752092361, 0.008679489605128765, -0.03844320401549339, 0.005750997457653284, 0.0011409998405724764, 0.041108690202236176, -0.00824788585305214, -0.015502716414630413, 0.01075751706957817, -0.013541889376938343, 0.025511430576443672, 0.057669032365083694, -0.021620014682412148, -0.009389850310981274, -0.042888425290584564, -0.07987780123949051, 0.0025893121492117643, -0.0006793324137106538, -0.0346636064350605, -0.0011426007840782404, 0.07586953043937683, 0.019024895504117012, -0.049085747450590134, -0.014134705998003483, -0.02252359502017498, -0.0515441857278347, 0.03285424783825874, -0.03794095292687416, -0.028576133772730827, -0.030417636036872864, 0.02806699089705944, 0.028935806825757027, -0.030592001974582672, -0.04903063923120499, -0.09093710035085678, 0.010433888994157314, 0.00855457317084074, -0.046403564512729645, -0.10160709917545319, 0.020387932658195496, -0.06782783567905426, -0.010071029886603355, 0.04079120606184006, 0.026384858414530754, 0.017303211614489555, -0.01537855714559555, -0.025067785754799843, -0.033815979957580566, -0.008634236641228199, 0.01062744576483965, 0.020361054688692093, 0.03687765821814537, 0.017757806926965714, 0.0019870048854500055, 0.0092599643394351, -0.007776613812893629, -0.014977609738707542, 0.009041527286171913, -0.035924240946769714, -0.03708678111433983, 0.03246116265654564, 0.0009267589193768799, 0.0032759476453065872, 0.006831873673945665, -0.08747615665197372, -0.03558921068906784, -0.045379508286714554, -0.005621475167572498, -0.0034521319903433323, 0.005489939358085394, 0.040384307503700256, -0.012807653285562992, 0.03413968160748482, -0.014325343072414398, 0.011588881723582745, 0.017562316730618477, -0.0320492684841156, -0.03628832474350929, -0.038541559129953384, -0.07694738358259201, -0.0196848027408123, -0.05220488831400871, 0.018393004313111305, -0.0059479400515556335, -0.002910034731030464, 0.04528893157839775, -0.0878017246723175, -0.05552893131971359, 0.029745224863290787, -0.020311156287789345, 2.0239953357759077e-07, 0.06170472875237465, -0.04161360487341881, 0.030851326882839203, -0.007146899122744799, -0.10118374973535538, -0.029091769829392433, 0.006175324320793152, 0.04864969849586487, -0.015502683818340302, 0.05751243233680725, -0.025713417679071426, -0.03104427643120289, 0.0032176142558455467, 0.07753932476043701, 0.032324470579624176, -0.06481458991765976, 0.012120958417654037, 0.0054876902140676975, -0.0307238157838583, 0.03024129569530487, 0.06573520600795746, 0.047085221856832504, 0.021354829892516136, -0.02754608355462551, 0.00031194736948236823, -0.009688415564596653, -0.019696876406669617, 0.04160741716623306, -0.005706779193133116, -0.015782004222273827, 0.02297610603272915, -0.007316614035516977, -0.026109913364052773, 0.03639639914035797, 0.0038812996353954077, -0.04535508155822754, 0.014111833646893501, 0.018236003816127777, 0.005608150735497475, 0.005250683985650539, 0.06307125091552734, -0.03896017372608185, 0.007832266390323639, -0.05189986526966095, 0.0397392213344574, 0.0408465713262558, -0.00847680401057005, 0.030708475038409233, -0.008128464221954346, -0.018781909719109535, 0.10353663563728333, 0.008542435243725777, -0.03913728520274162, -0.03235502913594246, 0.002858756110072136, -0.028613928705453873, -0.037163469940423965, -0.019199097529053688, -0.022465141490101814, -0.03401542082428932, 0.005941237322986126, -0.04995991289615631, -0.04211903363466263, -0.019793886691331863, 0.0369550883769989, 0.01105164922773838, 0.008138454519212246, 1.6073113970362634e-34, -0.03936903923749924, -0.012783230282366276, 0.010549523867666721, -0.005267979111522436, 0.005765964742749929, 0.019098808988928795, -0.0042070685885846615, -0.0038135468494147062, -0.02726667746901512, 0.03266314044594765, 0.007960190065205097]}}, {'_index': 'course-questions', '_id': 'aBMy1pEBAs_YWaRzgtR7', '_score': 1.3775005, '_source': {'text': 'You can set it up on your laptop or PC if you prefer to work locally from your laptop or PC.\\nYou might face some challenges, especially for Windows users. If you face cnd2\\nIf you prefer to work on the local machine, you may start with the week 1 Introduction to Docker and follow through.\\nHowever, if you prefer to set up a virtual machine, you may start with these first:\\nUsing GitHub Codespaces\\nSetting up the environment on a cloudV Mcodespace\\nI decided to work on a virtual machine because I have different laptops & PCs for my home & office, so I can work on this boot camp virtually anywhere.', 'section': 'General course-related questions', 'question': 'Environment - Should I use my local machine, GCP, or GitHub Codespaces for my environment?', 'course': 'data-engineering-zoomcamp', 'text_vector': [-0.047676101326942444, -0.012522556819021702, -0.00817591417580843, -0.0450933538377285, 0.004718504846096039, 0.03167610242962837, 0.05763932690024376, -0.005451957695186138, 0.03838459774851799, 0.04491349309682846, 0.038232073187828064, 0.008032364770770073, 0.005778042133897543, 0.005609356798231602, 0.01810520514845848, 0.017719479277729988, 0.029389983043074608, 0.01920078508555889, -0.048961132764816284, -0.009499219246208668, 0.030841797590255737, -0.01152260322123766, -0.08889354020357132, -0.01029215008020401, 0.0013252393109723926, -0.06037713959813118, 0.0045827110297977924, 0.024679647758603096, 0.01294812373816967, 0.0370192751288414, 0.0341133251786232, -0.017715701833367348, 0.060122352093458176, 0.019534533843398094, 1.4662406329080113e-06, 0.02772185392677784, -0.04005245119333267, -0.023340463638305664, 0.011635287664830685, -0.05569862946867943, 0.025808239355683327, 0.007738052401691675, -0.010014452040195465, -0.009348427876830101, -0.023426111787557602, -0.0030110252555459738, 0.012511387467384338, -0.009589776396751404, 0.05513085052371025, 0.03304712101817131, 0.021755311638116837, -0.0075545720756053925, -0.11656838655471802, 0.053751930594444275, -0.05462418496608734, -0.007880635559558868, -0.011763078160583973, 0.07654202729463577, 0.024726824834942818, -0.07100926339626312, 0.0007811592658981681, -0.013726645149290562, 0.038751449435949326, 0.03675615414977074, 0.05205273628234863, 0.08362837880849838, -0.012515301816165447, -0.061642542481422424, -0.04055161401629448, -0.08092277497053146, 0.04788534343242645, -0.010240042582154274, -0.012957122176885605, 0.03942237049341202, -0.017417002469301224, -0.034976519644260406, 0.02226480096578598, 0.018404612317681313, 0.014897745102643967, 0.04595140740275383, -0.038342565298080444, -0.07152174413204193, -0.09306429326534271, 0.012834177352488041, 0.000853906327392906, 0.05726287141442299, -0.022435441613197327, -0.010363071225583553, -0.04765002802014351, 0.04918760433793068, 0.0010850460967049003, 0.0008265379001386464, 0.03270670026540756, 0.04527851566672325, -0.01765035279095173, -0.07658582180738449, -0.03626589849591255, 0.022595850750803947, -0.023231426253914833, -0.00944504514336586, 0.018408402800559998, -0.04496832191944122, 0.07226468622684479, -0.007026183418929577, 0.041940487921237946, 0.03173782676458359, 0.016344187781214714, 0.06710418313741684, 0.013141166418790817, 0.01399264857172966, -0.0477275624871254, 0.007596875540912151, -0.07635936141014099, 0.019695080816745758, -0.06424952298402786, -0.029251128435134888, 0.005498476326465607, -0.05096205323934555, 0.0552663616836071, -0.019665101543068886, -0.01552149560302496, 0.041780419647693634, 0.01862175576388836, 0.004308932926505804, -0.041241925209760666, -0.033840443938970566, -0.00388708314858377, 0.02903352491557598, -0.00324938353151083, -0.04739038646221161, 0.02023128606379032, 0.06861280649900436, -0.06107344105839729, -0.05462805554270744, 0.024369439110159874, -0.020064711570739746, 0.0035940867383033037, 0.011550833471119404, 0.028290074318647385, 0.09365084767341614, 0.01460399478673935, -0.03800376132130623, -0.08698790520429611, 0.001070961239747703, 0.03145638108253479, -0.022302471101284027, 0.008009183220565319, 0.07282333821058273, 0.010413573123514652, -0.00941440649330616, 0.03317100182175636, -0.028566498309373856, 0.010249649174511433, 0.0065276348032057285, 0.015043013729155064, 0.015897925943136215, -0.019452592357993126, -0.027391742914915085, 0.05663666874170303, 0.05430609732866287, -0.03794228285551071, -0.06165371835231781, -0.008250013925135136, 0.010657398961484432, -0.029425280168652534, -0.02217957004904747, -0.01781941018998623, 0.04872918128967285, 0.005865584593266249, 0.01653140038251877, 0.004992079455405474, -0.04255102574825287, 0.01965073123574257, 0.07041817903518677, -0.00920687336474657, -0.03244151547551155, -0.005744289141148329, -0.042999424040317535, 0.0006781200645491481, 0.04060878977179527, 0.037302758544683456, -0.10318851470947266, -0.012902634218335152, -0.02673366479575634, 0.0447833389043808, -0.011386492289602757, -0.037091564387083054, 0.042002517729997635, 0.035089824348688126, 0.07810860127210617, -0.013816984370350838, -0.021464940160512924, -0.032313767820596695, -0.005125619471073151, -0.05372358858585358, -0.05191502347588539, 0.009581362828612328, -0.012591768056154251, -0.02469930239021778, 0.023620333522558212, -0.03462079539895058, 0.044671811163425446, 0.02465810440480709, 0.023741070181131363, -0.008968699723482132, 0.01849309355020523, -0.033263418823480606, -0.02928382158279419, -0.011078022420406342, -0.020310837775468826, -0.002935197204351425, -0.012273088097572327, 0.022222749888896942, -0.02410959079861641, 0.002541651949286461, -0.008657703176140785, -0.05700550600886345, -0.04825352877378464, 0.10492927581071854, -0.03870689868927002, -0.03944796696305275, -0.0314510315656662, -0.028743764385581017, 0.04191538318991661, 0.06210761144757271, 0.009521093219518661, -0.004334012046456337, -0.007640125695616007, 0.053771648555994034, -0.028848595917224884, -0.02424577996134758, -0.029677679762244225, 0.012514285743236542, -0.016048846766352654, 0.010728594847023487, -0.06491256505250931, 0.04917900636792183, 0.008552899584174156, 0.03771594911813736, -0.040821373462677, -0.01974349655210972, 0.00011074372014263645, 0.006848969496786594, 0.02578386664390564, -0.015056862495839596, 0.016164254397153854, -0.07359221577644348, 0.04223468154668808, 0.008614645339548588, -0.025033747777342796, 0.011077875271439552, 0.04756297916173935, -0.005388086196035147, 0.05803679674863815, 0.012212347239255905, -0.020544162020087242, 0.04662371426820755, -0.017188988626003265, -0.014103127643465996, 0.0037319473922252655, -0.08606770634651184, 0.013802275992929935, -0.06282033026218414, -0.03101932443678379, 0.021876728162169456, -0.03051239810883999, 0.03428126499056816, -0.03371790423989296, 0.03939777612686157, -0.04567113518714905, -0.02759597823023796, 0.030116816982626915, 0.002167758299037814, -0.010603399947285652, -0.049999162554740906, -0.016220223158597946, 0.02688450925052166, -0.0035056089982390404, -0.005931130610406399, -0.03064730390906334, -0.013816530816257, 0.05342654883861542, -0.04390614479780197, 0.006231444887816906, 0.02323702909052372, 0.017951956018805504, 0.031320031732320786, 0.032610878348350525, -0.08085935562849045, 0.005418435204774141, 0.011447212658822536, 0.08088957518339157, 0.03699119761586189, 0.031849443912506104, 0.04262884706258774, 0.016184812411665916, 0.05254974961280823, -0.030565086752176285, -0.004324520472437143, 0.02604210376739502, 0.051392342895269394, 0.02670164406299591, -0.03851833939552307, 0.03763708099722862, 0.007834355346858501, -0.01654457487165928, -0.00894912425428629, -0.006083824206143618, -0.06859316676855087, 0.040279973298311234, -0.026580050587654114, 0.021532487124204636, -0.021244246512651443, 0.03847043216228485, -0.050570305436849594, 0.038183268159627914, -0.016744261607527733, 0.08234389126300812, -0.047832388430833817, -0.02199147641658783, -0.036765921860933304, -0.0743553414940834, -0.02214922569692135, -0.01886804774403572, -0.016863545402884483, -0.043458111584186554, -0.06342066079378128, -0.0049136001616716385, -0.046329014003276825, -0.012552491389214993, -0.012986366637051105, -0.010512885637581348, -0.015991251915693283, 0.04311751946806908, -0.005066368728876114, -0.04291030019521713, -0.012797589413821697, -0.044961243867874146, 0.020608875900506973, 0.04838285967707634, 0.005056785885244608, 0.03154510632157326, 0.02883787266910076, 0.016216380521655083, -0.06844881176948547, 0.021279433742165565, -0.024094687774777412, -0.011577055789530277, 0.0862385705113411, 0.007590716704726219, 0.07892689853906631, 0.03915044665336609, -0.00340878963470459, 0.058655746281147, 0.031411413103342056, 0.026745401322841644, 0.017129546031355858, 0.05438868701457977, 0.04445663467049599, 0.027177028357982635, -0.07076246291399002, 0.011069472879171371, 0.09542533755302429, -0.025924421846866608, -0.028861913830041885, -0.04943396896123886, 0.028841407969594002, -0.02783089317381382, 0.023162398487329483, 0.01508012693375349, 0.06994151324033737, -0.027714630588889122, -0.04059470072388649, -0.006348186172544956, 0.03978857025504112, -0.05497618764638901, 0.010017521679401398, 0.05498227849602699, -0.01684597134590149, 0.026591459289193153, 0.0011037670774385333, -0.0422922745347023, -0.012756085954606533, 0.02640969306230545, 0.015708038583397865, 0.02753482386469841, -0.016278410330414772, -0.010050996206700802, 0.031408846378326416, -0.008835138753056526, 0.01105556357651949, -0.026757052168250084, -0.024182435125112534, -0.022317785769701004, 0.00943417102098465, -0.024829484522342682, -0.02459850162267685, 0.018973782658576965, 0.04227512329816818, 0.04685334861278534, -0.012171168811619282, 0.041936345398426056, 0.003837236203253269, -0.014177040196955204, -0.029723789542913437, 0.02064467966556549, 0.015893911942839622, -0.04203428328037262, 0.008454720489680767, 0.014149662107229233, -0.005805701017379761, -0.028938528150320053, 0.05171377956867218, 0.005095883272588253, -0.052430931478738785, 0.012328743934631348, -0.0004400993639137596, 0.011268741451203823, -0.011937656439840794, -0.05025075003504753, 0.008732305839657784, 0.03965749219059944, 0.06598972529172897, -0.03246796131134033, 0.027167972177267075, 0.04601426422595978, 0.04057950899004936, -0.015589103102684021, 0.0006544492207467556, -0.002647387096658349, -0.03947433829307556, -0.03669443354010582, 0.017615072429180145, 0.02495530992746353, -0.0037603445816785097, 0.021184835582971573, -0.017494508996605873, -0.027722274884581566, 0.030853625386953354, 0.0005811803857795894, -0.027262717485427856, 0.010124360211193562, 0.05396861210465431, -0.03284546732902527, -0.09344162046909332, -0.02733667567372322, 0.030292998999357224, -0.008209831081330776, 0.0031729312613606453, -0.004135395400226116, 0.06031395122408867, 0.031508155167102814, -0.06390737742185593, -0.005513315089046955, -0.011392718181014061, 0.01692778617143631, 0.01662619411945343, 0.015809234231710434, 0.013948917388916016, 0.0460527241230011, -0.041488245129585266, -0.002101208083331585, 0.05344894528388977, -0.007271434646099806, 0.00971535500138998, 0.005727420561015606, -0.039312563836574554, -0.10049045085906982, 0.046681180596351624, -0.044768091291189194, 0.00010540899529587477, 0.02170512080192566, -0.0072624837048351765, -0.0002874178462661803, 0.01194170955568552, 0.050411906093358994, 0.03894999623298645, -0.002660485217347741, -0.02316228300333023, 0.04140906035900116, -0.007464289199560881, 0.04223516955971718, -0.029270842671394348, 0.02473818138241768, 0.04538203030824661, 0.014836505055427551, 0.05366980656981468, -0.042890191078186035, 0.007557222619652748, 0.001961918082088232, -0.0248824805021286, -0.04367676004767418, 0.02754005417227745, 0.00041381019400432706, -0.017793474718928337, 0.013172920793294907, 0.0025010632816702127, 0.06491968035697937, -0.002950166119262576, 0.057211197912693024, 0.04736300930380821, 0.05131359398365021, 0.02945897914469242, 0.03743184357881546, -0.021168917417526245, -0.008113370276987553, -0.015416561625897884, -0.004715865012258291, -0.02905220352113247, -0.03380313143134117, -0.04314570501446724, -0.00819386262446642, 0.06992390751838684, 0.03190797567367554, 0.05310500040650368, 0.03795270621776581, -0.022848505526781082, 0.032119639217853546, -0.02051609754562378, 0.012503349222242832, 0.00013254840450827032, -0.01321513019502163, -0.030260805040597916, -0.011815350502729416, -0.025198422372341156, -0.04205043986439705, 0.044074613600969315, -0.023387722671031952, 0.02301632985472679, 0.02165135182440281, 0.029998401179909706, 0.007655889727175236, 0.02325652725994587, -0.015062692575156689, -0.061673007905483246, 0.014197218231856823, -0.003277596551924944, 0.04641308635473251, -0.005299541167914867, 0.009736798703670502, 0.06508443504571915, -0.027403399348258972, 0.00021247715631034225, 0.022828789427876472, 0.0011047240113839507, -0.025088900700211525, 0.007668911479413509, 0.0006028561620041728, 0.00010267598554491997, 0.025437530130147934, -0.008307338692247868, 0.06198006123304367, 0.013569547794759274, 0.03662704676389694, -0.024509701877832413, -3.922115145361289e-33, 0.031671348959207535, 0.03089163452386856, 0.08212210983037949, 0.023884495720267296, -0.018662575632333755, -0.01716531068086624, -0.001289269421249628, 0.03887048363685608, 0.018405167385935783, 0.04783650487661362, 0.03145338594913483, 0.05831202119588852, 0.037697684019804, -0.003334787907078862, -0.015406808815896511, 0.03662761300802231, -0.0009416916291229427, 0.0005763162043876946, -0.042795661836862564, -0.0048525272868573666, -0.04093547537922859, 0.0632370337843895, 0.01375306211411953, -0.057137757539749146, 0.005977376829832792, -0.01315115112811327, -0.01456123124808073, 0.014612400904297829, 0.017142096534371376, -0.009235380217432976, 0.0185297392308712, -0.02601728029549122, -0.023792652413249016, -0.049373239278793335, 0.0040528299286961555, -0.06588166207075119, -0.05820770561695099, 0.03715192526578903, -0.0384884849190712, 0.04476373642683029, -0.033067893236875534, -0.015354063361883163, 0.06675290316343307, -0.03649831563234329, -0.06727033853530884, 0.026577124372124672, -0.013658992946147919, 0.010828780941665173, -0.0038262729067355394, -0.02303340844810009, 0.004497790243476629, 0.014049864374101162, -0.0060578519478440285, -0.004226036835461855, 0.03179817646741867, -0.044042546302080154, -0.057059869170188904, 0.008606174029409885, -0.009679500013589859, 0.0025866373907774687, -0.0038828589022159576, -0.05631203204393387, 0.014528256841003895, -0.06643758714199066, 0.01601502299308777, -0.018384214490652084, 0.005712171085178852, -0.06408146023750305, -0.018116146326065063, 0.04956497997045517, -0.04884473606944084, -0.03585441783070564, -0.00912191066890955, 0.01996619813144207, 0.027029527351260185, 0.04103030264377594, 0.01731353998184204, -0.027604233473539352, -0.004909278824925423, -0.038070887327194214, -0.04371684417128563, -0.0004327814094722271, -0.026962198317050934, 0.010331990197300911, 0.006944386754184961, -0.06158249452710152, -0.013528062030673027, -0.008375415578484535, 0.019900647923350334, 0.03835534304380417, -0.10663774609565735, -0.04684510454535484, 0.01564917527139187, -0.015943637117743492, 0.07082877308130264, 0.0015314554329961538, 0.027849173173308372, 0.02536904066801071, 0.03827013820409775, 0.024542683735489845, -0.003383184550330043, -0.000917294470127672, -0.0022200748790055513, -0.08049546927213669, 0.05291331931948662, -0.012580893002450466, 0.004199647344648838, -0.04381851106882095, -0.004730550572276115, 0.013729010708630085, 0.014294943772256374, 0.012391883879899979, -0.04065854847431183, -0.03693375736474991, -0.0356685146689415, -0.0353451706469059, 0.014405534602701664, 0.061243195086717606, 0.017507394775748253, 0.005698041059076786, 0.04537225142121315, -0.06538732349872589, -0.005770450457930565, -0.038076091557741165, 0.024300014600157738, 0.03743769973516464, -0.014531614258885384, 0.05948203057050705, -0.044111814349889755, -0.00907869078218937, -0.003138219239190221, 0.03078397922217846, 2.209506106964909e-07, -0.006379256956279278, 0.0176402535289526, 0.05393224209547043, -0.06384456157684326, -0.00016693795623723418, -0.025545179843902588, 0.054850902408361435, 0.0004544039838947356, -0.045801930129528046, -0.05602375045418739, -0.09117543697357178, 0.004221170675009489, -0.02382422611117363, 0.07015658915042877, 0.030726784840226173, -0.010266155004501343, 0.015316561795771122, 0.06081267073750496, 0.009001573547720909, 0.029069190844893456, -0.028659580275416374, 0.062165215611457825, -0.03763943165540695, -0.03746950253844261, 0.03967257961630821, 0.045916780829429626, -0.043913353234529495, 0.08745315670967102, -0.008263940922915936, -0.005504298489540815, -0.039284851402044296, -0.02219741977751255, -0.02320912294089794, -0.01436611358076334, -0.025175772607326508, -0.03521638363599777, -0.014026671648025513, 0.036357760429382324, -0.02207452803850174, 0.015551581047475338, 2.5122073566308245e-05, -0.0436282716691494, -0.037031389772892, -0.02017093449831009, 0.017684021964669228, -0.025685129687190056, -0.009123519994318485, -0.09826619923114777, 0.030631788074970245, -0.011825330555438995, 0.02198805846273899, 0.009510081261396408, 0.022110076621174812, -0.04692646861076355, 0.01693706028163433, -0.053235627710819244, -0.060522712767124176, 0.006270386278629303, 0.01683516800403595, -0.0039637768641114235, -0.05054937303066254, 0.032546065747737885, -0.0006760134128853679, -0.02668709307909012, -0.0473969504237175, 0.009207788854837418, -0.005164946895092726, 1.2858234496078346e-34, -0.0715746134519577, -0.007814949378371239, -0.0291714146733284, 0.054468490183353424, -0.0038566694129258394, -0.017037035897374153, -0.008197804912924767, -0.026274938136339188, -0.011161047965288162, -0.04461299628019333, -0.027226410806179047]}}, {'_index': 'course-questions', '_id': 'VBMy1pEBAs_YWaRzf9S5', '_score': 0.778914, '_source': {'text': \"The purpose of this document is to capture frequently asked technical questions\\nThe exact day and hour of the course will be 15th Jan 2024 at 17h00. The course will start with the first  “Office Hours'' live.1\\nSubscribe to course public Google Calendar (it works from Desktop only).\\nRegister before the course starts using this link.\\nJoin the course Telegram channel with announcements.\\nDon’t forget to register in DataTalks.Club's Slack and join the channel.\", 'section': 'General course-related questions', 'question': 'Course - When will the course start?', 'course': 'data-engineering-zoomcamp', 'text_vector': [-0.03570346161723137, -0.06891428679227829, -0.04448342323303223, 0.006250153295695782, -0.042247094213962555, -0.00645399559289217, 0.02754814364016056, -0.01861027255654335, -0.05203750357031822, -0.0024047393817454576, 0.05745450034737587, -0.015592600218951702, 0.015488838776946068, 0.0987016037106514, 0.01564955711364746, -0.061262547969818115, 0.0410764105618, 0.021717311814427376, -0.09465402364730835, 0.003248365595936775, 0.004476580303162336, -0.0076589384116232395, -0.05192878097295761, -0.007335757836699486, 0.01376635953783989, -0.02536003105342388, -0.009448744356632233, -0.000613488198723644, 0.0013490822166204453, 0.003572760848328471, 0.04675014689564705, 0.03167474642395973, 0.018300609663128853, 0.03280350938439369, 2.2712188183504622e-06, -0.040923964232206345, -0.05484967306256294, 0.06045264005661011, -0.06583874672651291, 0.10414967685937881, -0.01830802671611309, 0.036593686789274216, 0.0035046942066401243, 0.034380801022052765, -0.009004841558635235, 0.044905394315719604, -0.004431091248989105, -0.016740767285227776, 0.04183368757367134, 0.040366094559431076, -0.008579150773584843, 0.014258153736591339, -0.04291054606437683, -0.0008289123070426285, -0.00858977995812893, -0.05143113434314728, -0.02147863619029522, 0.030489254742860794, 0.04075376316905022, 0.0443916991353035, -0.012325089424848557, -0.013521399348974228, -0.020070543512701988, -0.007066722959280014, 0.061694175004959106, 0.04866279289126396, -0.0324145182967186, 0.04746846854686737, -0.03913332149386406, -0.012922581285238266, 0.13613373041152954, -0.019954612478613853, 0.01922396384179592, 0.033115386962890625, -0.028972800821065903, -0.025618908926844597, -0.019541719928383827, -0.05728921666741371, -0.03175605833530426, 0.023747168481349945, -0.026486532762646675, 0.0005026774015277624, -0.039672672748565674, 0.004431721288710833, 0.06732958555221558, 0.06481903791427612, 0.00016539814532734454, 0.0016486110398545861, 0.012411496601998806, -0.018818695098161697, 0.04756337031722069, -0.004610254894942045, 0.017463967204093933, 0.04083342105150223, -0.00045033759670332074, -0.04472329095005989, 0.01369379460811615, 0.04449978470802307, 0.02164257876574993, -0.02850768342614174, -0.014562469907104969, -0.003969179932028055, 0.07588791847229004, 0.046445801854133606, 0.01100893598049879, 0.01129984762519598, -0.03140607476234436, -0.007918008603155613, -0.017799047753214836, 0.04584142938256264, -0.011724991723895073, 0.007408768869936466, -0.015789896249771118, 0.03258052468299866, 0.011755525134503841, 0.02318808063864708, -0.0019562989473342896, 0.00729771051555872, -0.006346044596284628, 0.019955743104219437, 0.04584353044629097, -0.012632721103727818, -0.010365922003984451, -0.03049120120704174, -0.06264269351959229, 0.0015064235776662827, -0.0053556933999061584, -0.01103526446968317, 0.003442932153120637, -0.025469861924648285, -0.033891819417476654, -0.026435140520334244, -0.000882282736711204, -0.002883858745917678, -0.013823003508150578, 0.04014668986201286, -0.041206032037734985, 0.046437446027994156, -0.03629928454756737, -0.0218034740537405, 0.04071304574608803, -0.005953133571892977, -0.008099394850432873, 0.007590482477098703, -0.01732483133673668, -0.03574081510305405, -0.025628654286265373, 0.09799318760633469, -0.016164222732186317, 0.010551909916102886, 0.012563265860080719, 0.042543068528175354, -0.05220136046409607, 0.011930858716368675, 0.05376177281141281, 0.019651878625154495, 0.011321394704282284, 0.00028913115966133773, -0.02604508213698864, -0.021525049582123756, -0.0042561814188957214, -0.03637970983982086, 0.03292001038789749, 0.019545631483197212, 0.008819764479994774, -0.011037430725991726, -0.015590566210448742, 0.01274928543716669, 0.011405439116060734, -0.02629833295941353, -0.04942219704389572, 0.024165449663996696, -0.00083828967763111, 0.037203531712293625, -0.003810902126133442, -0.05668565258383751, 0.026180345565080643, -0.011513645760715008, -0.00784300360828638, 0.0572698749601841, 0.002179008210077882, -0.07969396561384201, -0.010630352422595024, 0.03241253271698952, -0.04289664328098297, 0.015569539740681648, 0.00874236784875393, 0.0314020961523056, -0.02582007460296154, -0.021699825301766396, -0.04233887046575546, 0.021844342350959778, -0.015781696885824203, 0.03704102337360382, 0.01289970614016056, 0.01723668724298477, -0.024671494960784912, 0.0525905080139637, 0.033487532287836075, -0.027480104938149452, -0.043995440006256104, -0.05372261255979538, 0.012870856560766697, -0.015324155800044537, 0.03372136503458023, -0.03333441540598869, -0.08258926123380661, -0.035683274269104004, 0.024025697261095047, 0.024452805519104004, 0.0982312560081482, 0.009678278118371964, -0.008267252705991268, -0.028665440157055855, -0.007044117897748947, 0.012480787932872772, -0.006459853611886501, 0.012319549918174744, -0.029936326667666435, 0.032085876911878586, -0.03808180242776871, 0.04985051974654198, -0.08910765498876572, -0.019572749733924866, 0.0429985411465168, -0.01524860505014658, -0.010823389515280724, 0.062113795429468155, -0.04611627385020256, 0.059166278690099716, 0.0046315910294651985, -0.0289697777479887, 0.02358037605881691, -0.019979367032647133, 0.0321572907269001, -0.024238238111138344, 0.01257201936095953, 0.04712342843413353, 0.07921477407217026, -0.043867502361536026, -0.029126141220331192, 0.003284974955022335, -0.023543357849121094, -0.02247881144285202, 0.04140549153089523, -0.023993685841560364, -0.018947212025523186, -0.019679220393300056, -0.025346755981445312, 0.008304426446557045, 0.011795446276664734, 0.00730481743812561, -0.010010306723415852, 0.04560226574540138, 0.03625513240695, 0.010817873291671276, -0.003614200046285987, 0.05882903188467026, -0.0432419590651989, -0.004936595447361469, 0.04691651463508606, -0.07418809831142426, -0.02089114859700203, -0.00960591621696949, 0.030490746721625328, -0.0023780984338372946, 0.08378119021654129, 0.013812543824315071, -0.017655547708272934, 0.03323088213801384, 0.047667331993579865, 0.0517117902636528, -0.039048582315444946, 0.003959647845476866, -0.01736203022301197, -0.03869258984923363, 0.014074522070586681, -0.004467877559363842, -0.10962066799402237, 0.04609553888440132, -0.0035110595636069775, -0.04383615776896477, 0.014936077408492565, 0.005344930104911327, 0.00036390568129718304, 0.008625932037830353, 0.043066080659627914, -0.05693929269909859, -0.043384045362472534, 0.0359303317964077, 0.02045288495719433, -0.016468839719891548, 0.022879187017679214, -0.021613795310258865, -0.07377346605062485, -0.012006770819425583, -0.0020902175456285477, 0.07330897450447083, 0.011786192655563354, 0.04449622333049774, -0.0259738527238369, 0.05070003122091293, -0.018289562314748764, 0.019180091097950935, -0.008144025690853596, 0.029938949272036552, 0.016040882095694542, -0.012417376972734928, -0.04342103749513626, -0.002091884147375822, -0.06678412854671478, 0.015520542860031128, 0.03193891793489456, -0.010612818412482738, -0.016193190589547157, 0.02283671870827675, -0.012567779049277306, 0.04744347557425499, -0.032382313162088394, 0.05147317424416542, 0.00752837723121047, -0.014673910103738308, 0.02337530441582203, -0.025067172944545746, -0.02661951445043087, -0.08299348503351212, -0.09307771921157837, -0.016168002039194107, 0.0068708760663867, -0.06108640506863594, 0.04320526123046875, 0.022744687274098396, -0.05321314558386803, -0.026104776188731194, -0.03232180327177048, -0.020466243848204613, -0.025705911219120026, -0.07189740240573883, 0.0161366518586874, 0.0018305550329387188, -0.05124660208821297, 0.017527500167489052, -0.0034118499606847763, 0.05079174041748047, 0.020580796524882317, -0.0027678280603140593, -0.030148103833198547, 0.0026530122850090265, 0.011982078664004803, -0.006923086941242218, 0.016335655003786087, 0.004655817523598671, -0.05733902379870415, -0.017981983721256256, 0.005941852927207947, 0.040608134120702744, -0.015225235372781754, 0.02519635297358036, -0.03811823949217796, 0.04556654393672943, 0.013319624587893486, -0.0005946670426055789, -0.005097036715596914, 0.005711358040571213, -0.012777019292116165, 0.002527991309762001, 0.028775615617632866, -0.025558287277817726, 0.04369141533970833, 0.02793545089662075, -0.029291894286870956, 0.018506363034248352, -0.050020184367895126, 0.0019225163850933313, 0.014415629208087921, -0.006224859971553087, -0.004604424349963665, 0.012116623111069202, -0.00453922338783741, 0.017040356993675232, 0.040418997406959534, -0.04216599091887474, 0.09157390892505646, 0.029489660635590553, 0.09274900704622269, -0.06378582119941711, -0.0010772952809929848, -0.022950267419219017, 0.0027611416298896074, 0.03017008863389492, 0.0038501822855323553, -0.03599109500646591, -0.054398249834775925, 0.02228875644505024, -0.04142341762781143, -0.011991426348686218, 0.019416499882936478, 0.003453141078352928, 0.018060121685266495, 0.014212612994015217, 0.08533832430839539, -0.06710388511419296, -0.013068163767457008, 0.03215504810214043, -0.010530376806855202, 0.020364519208669662, 0.07244915515184402, 0.028010772541165352, -0.04857873171567917, -0.06059570610523224, 0.027731476351618767, 0.027668654918670654, -0.0062785581685602665, -0.07663334161043167, -0.016406526789069176, 0.0019887066446244717, 0.000537410844117403, 0.020508090034127235, 0.09072170406579971, -0.0013975462643429637, 0.0407431498169899, 0.04290253296494484, 0.05638566240668297, -0.02174116112291813, 0.026032011955976486, -0.02287900634109974, 0.029960840940475464, 0.03423725813627243, -0.01649639569222927, -0.017685504630208015, 0.014501409605145454, -0.018360953778028488, -0.02428659051656723, 0.05129138380289078, -0.038681335747241974, 0.0029752226546406746, -0.028656959533691406, 0.045738585293293, -0.0348098985850811, 0.018307680264115334, -0.0026097625959664583, 0.010904195718467236, 0.08691837638616562, -0.0032851274590939283, -0.022975800558924675, 0.023459265008568764, 0.061844367533922195, -0.06221681833267212, -0.0461789108812809, -0.025732368230819702, 0.05067480355501175, -0.08671674877405167, 0.014549552462995052, -0.013476451858878136, -0.016695581376552582, -0.06551462411880493, -0.05522556230425835, -0.022909415885806084, -0.044758982956409454, 0.03921151161193848, 0.056073740124702454, 0.05006127804517746, -0.017224997282028198, 0.020288530737161636, 0.0805661678314209, -0.049670301377773285, 0.014707810245454311, -0.03747480735182762, -0.017933523282408714, -0.029651636257767677, 0.019183635711669922, -0.01362814661115408, -0.013121206313371658, 0.006325984839349985, 0.00047469144919887185, -0.007091354113072157, -0.044392362236976624, 0.03843829780817032, 0.011651817709207535, 0.009595554322004318, 0.06725582480430603, 0.020184608176350594, 0.0428168885409832, -0.025109004229307175, 0.03342108428478241, 0.042251087725162506, 0.0414312481880188, -0.0011525781592354178, -0.006976231001317501, -0.02469012700021267, -0.01028404664248228, -0.009381319396197796, 0.010199449956417084, -0.010524669662117958, 0.04697318375110626, -0.003612737637013197, -0.0002755670575425029, -0.022547662258148193, 0.016097763553261757, 0.015980197116732597, -0.037876397371292114, -0.007319897413253784, 0.025225047022104263, -0.01961742714047432, -0.0370904877781868, -0.01891734078526497, -0.052997782826423645, 0.03799605742096901, -0.016901658847928047, 0.045291610062122345, -0.05304257944226265, 0.0034388243220746517, -0.025998970493674278, -0.029440414160490036, 0.02056576870381832, 0.0154561847448349, -0.007428363896906376, 0.05017239227890968, -0.04386153444647789, -0.02627800591289997, 0.042610131204128265, 0.001799842226319015, 0.056549735367298126, -0.06821385771036148, 0.01997482031583786, -0.0066601429134607315, 0.011786646209657192, -0.004341949708759785, 0.0346839465200901, 0.04580388590693474, 0.0029699732549488544, -0.05566497519612312, 0.02284684032201767, -0.002230854006484151, -0.003857990028336644, 0.04347723722457886, 0.01856512948870659, 0.022350549697875977, 0.0084324786439538, 0.0004782048345077783, -0.0006394134252332151, -0.016027651727199554, 0.04646894708275795, 0.010715757496654987, 0.020261557772755623, -0.03917744383215904, 0.07468660920858383, -0.009102919138967991, 0.017102785408496857, 0.009239556267857552, 0.02152717113494873, 0.0301332026720047, -0.0005733398720622063, 0.04799291491508484, 0.002354196272790432, -6.669123853036062e-33, -0.027761710807681084, -0.01143756415694952, -0.02379007078707218, 0.07755988836288452, -0.03838694095611572, 0.003722325200214982, 0.03920836001634598, -0.004138358868658543, -0.046741366386413574, -0.0652681514620781, -0.02590148150920868, 0.020166855305433273, 0.0348612517118454, 0.055358804762363434, -0.009308602660894394, -0.01893414929509163, 0.011226646602153778, 0.021392840892076492, 0.0075188991613686085, 0.001726434682495892, -0.04366552457213402, 0.03661508113145828, 0.03186488151550293, 0.009257413446903229, -0.011130738072097301, -0.00903361663222313, -0.01638784259557724, -0.016086911782622337, -0.02592223510146141, -0.03432721272110939, 0.012562263756990433, -0.0027771240565925837, -0.018025599420070648, -0.015290716663002968, 0.012978913262486458, 0.010485166683793068, -0.0940370261669159, -0.025393377989530563, -0.0719233974814415, 0.037859272211790085, 0.0006911387317813933, -0.041800953447818756, 0.024589691311120987, -0.032183438539505005, -0.06970995664596558, -0.025870801880955696, -0.006107300985604525, 0.06396316736936569, -0.023242952302098274, 0.029915187507867813, -0.035685863345861435, -0.025951985269784927, -0.05962981656193733, 0.049571193754673004, 0.012544856406748295, 0.0011647242354229093, 0.002853137208148837, -0.07263938337564468, -0.033982183784246445, 0.041041336953639984, 0.03534015268087387, -0.0014340884517878294, 0.046981099992990494, -0.04911317676305771, 0.004808226600289345, -0.028787899762392044, -0.04020601883530617, 0.034064292907714844, 0.05006242170929909, 0.004526943899691105, -0.048881854861974716, 0.07393603026866913, -0.039763376116752625, -0.0671442449092865, 0.019262678921222687, -0.05427078902721405, -0.04287353530526161, 0.015150436200201511, 0.07324295490980148, 0.038870230317115784, -0.02677081897854805, -0.04235127940773964, -0.01650286838412285, -0.03206392377614975, 0.04834766685962677, 0.024371696636080742, 0.006155488546937704, -0.01474754884839058, -0.0033652172423899174, -0.017326006665825844, 0.002151205437257886, 0.050143126398324966, -0.04567456617951393, -0.0047121187672019005, 0.05452217534184456, -0.005619307979941368, 0.052002422511577606, -0.017812149599194527, -0.003828825429081917, 0.019900847226381302, -0.04634324833750725, -0.0396069772541523, -0.05374476686120033, 0.013533738441765308, 0.0371580608189106, 0.01177107822149992, -0.05636266991496086, 0.021987466141581535, -0.025969399139285088, 0.015303123742341995, 0.026266200467944145, -0.024728380143642426, 0.011959992349147797, -0.002552866470068693, 0.01314771082252264, 0.02352508157491684, 0.0054092127829790115, 0.032843101769685745, -0.03745202720165253, -0.03223402425646782, 0.009349835105240345, 0.0018671815050765872, -0.030692825093865395, 0.04909638315439224, -0.02291794866323471, -0.021522894501686096, -0.027377381920814514, -0.05985264480113983, -0.010744995437562466, -0.002687790198251605, -0.02607755735516548, 0.0059889634139835835, 2.9891515396229806e-07, -0.017357083037495613, 0.0520423948764801, 0.010894639417529106, 0.07181863486766815, -0.0035476996563374996, -0.06723108887672424, -0.04277888312935829, 0.02878064475953579, 0.010034697130322456, 0.04991453140974045, 0.0014659555163234472, -0.06393132358789444, 0.017589882016181946, -0.03197856619954109, -0.018320376053452492, -0.12946158647537231, -0.012786449864506721, 0.038777630776166916, -0.026159362867474556, -0.003254083450883627, 0.05587407946586609, 0.03684103861451149, 0.015002543106675148, 0.007876245304942131, 0.0013649265747517347, -0.05735655501484871, 0.026195872575044632, 0.014979389496147633, 0.053381454199552536, 0.01893237978219986, 0.018473081290721893, 0.016741929575800896, -0.005128319375216961, 0.04867783933877945, 0.0007264825981110334, -0.0026687299832701683, 0.028365088626742363, 0.020629417151212692, 0.04678468033671379, -0.0030444408766925335, -0.0495627336204052, -0.027629045769572258, -0.020611533895134926, -0.003590578678995371, 0.057822808623313904, -0.01255077961832285, -0.07465916872024536, 0.01213346142321825, -0.06597521901130676, -0.04186379536986351, -0.008240322582423687, 0.0328984297811985, 0.058451518416404724, -0.04343995451927185, -0.003960332367569208, -0.04047767072916031, -0.025580832734704018, 0.039681196212768555, 0.04254942014813423, 0.0196281298995018, 0.00469854986295104, -0.08774096518754959, 0.008292407728731632, 0.024664927273988724, 0.07733559608459473, -0.017454231157898903, -0.02182924374938011, 3.278575196887029e-34, -0.023155154660344124, -0.02305937558412552, 0.010065104812383652, 0.0814749151468277, -0.04216891527175903, -0.01986072026193142, 0.06590520590543747, -0.028543716296553612, -0.023729262873530388, -0.061223894357681274, -0.03779280185699463]}}, {'_index': 'course-questions', '_id': 'VRMy1pEBAs_YWaRzgNQU', '_score': 0.778914, '_source': {'text': 'GitHub - DataTalksClub data-engineering-zoomcamp#prerequisites', 'section': 'General course-related questions', 'question': 'Course - What are the prerequisites for this course?', 'course': 'data-engineering-zoomcamp', 'text_vector': [-0.041030403226614, 0.025834161788225174, -0.036801841109991074, -0.020898321643471718, -0.020596304908394814, 0.009353742003440857, -0.003331671468913555, -0.009491903707385063, 0.030117977410554886, 0.01908210851252079, 0.012690035626292229, -0.017078785225749016, -0.0016324761090800166, 0.12997251749038696, 0.030969230458140373, -0.025823738425970078, 0.0278230682015419, 0.025159770622849464, -0.0808122381567955, -0.0036173474509269, -0.008902025409042835, 0.003404824063181877, -0.0230092890560627, -0.03404529020190239, 0.024598615244030952, 0.013545555993914604, -0.025439025834202766, 0.011951087042689323, -0.020540112629532814, -0.010077380575239658, 0.020575348287820816, 0.043889813125133514, 0.014394641853868961, 0.01827182061970234, 1.716257543193933e-06, -0.019292503595352173, -0.015790250152349472, 0.00883047841489315, 0.04140875115990639, 0.017854532226920128, 0.023232251405715942, 0.015890134498476982, 0.033036522567272186, -0.006248722318559885, -0.024313639849424362, -0.005077979993075132, -0.022970762103796005, 0.04386941343545914, 0.05361015722155571, 0.01913951151072979, 0.02800687961280346, -0.009300651960074902, 0.06724214553833008, -0.030362671241164207, 0.06236087903380394, 0.05657077580690384, 0.013348656706511974, 0.09636972099542618, 0.05780797079205513, 0.01594364270567894, 0.022681143134832382, 0.012260831892490387, -0.015339679084718227, 0.04084821045398712, 0.0709986686706543, 0.004479201044887304, 0.0214602742344141, -0.09623973816633224, 0.010496056638658047, 0.01832815818488598, 0.06059516966342926, -0.0022177777718752623, -0.0031177138444036245, 0.033403582870960236, -0.006838619243353605, 0.03646325320005417, -0.020524276420474052, -0.017529763281345367, 0.03704284504055977, 0.015071552246809006, -0.1251135915517807, -0.06194508448243141, -0.06227663531899452, -0.0002937382087111473, 0.03727230057120323, 0.03746827691793442, 0.007168838754296303, 0.009751434437930584, -0.01730439066886902, -0.05080639198422432, 0.036145150661468506, -0.00491071492433548, -0.015009123831987381, 0.033964529633522034, -0.008211459964513779, -0.06480515003204346, 0.027568677440285683, 0.06699181348085403, 0.04078643023967743, -0.026680024340748787, -0.05300459638237953, -0.013385816477239132, 0.01954459771513939, 0.022521862760186195, 0.016393940895795822, -0.014412417076528072, 0.045927632600069046, -0.016209758818149567, 0.05278349667787552, 0.007656761910766363, 0.01472086925059557, 0.04804931953549385, -0.05068935453891754, -0.0007962420932017267, -0.05144881084561348, 0.015303063206374645, 0.018605900928378105, -0.01308700256049633, 0.0036251964047551155, 0.023233316838741302, 0.026989499107003212, -0.002640440594404936, -0.005428353790193796, -0.013441139832139015, -0.06094835326075554, -0.06909385323524475, -0.023957179859280586, 0.031023064628243446, -0.011164539493620396, -0.06756591796875, -0.038980428129434586, 0.03966604918241501, -0.018401561304926872, 0.002555770566686988, 0.0321170873939991, 0.02167390286922455, 0.001293195178732276, -0.008383350446820259, -0.09218037128448486, 0.01770869269967079, 0.045483674854040146, 0.005413349252194166, -0.08814018964767456, -0.03536110743880272, 0.008860857225954533, -0.015596386045217514, -0.013992337509989738, 0.01870238408446312, -0.001107683521695435, 0.03058059699833393, -0.06051912158727646, 0.025535302236676216, -0.058422792702913284, 0.006835099309682846, 0.043372176587581635, 0.028011400252580643, 0.024328768253326416, 0.045872993767261505, -0.02416602522134781, 0.024826960638165474, -0.01209762878715992, -0.049705538898706436, 0.07909710705280304, -0.0022153775207698345, 0.00851820781826973, 0.016419485211372375, -0.03407458961009979, 0.036635272204875946, 0.000647115521132946, -0.03853273764252663, -0.05148620158433914, 0.007448598742485046, -0.030534012243151665, 0.095671646296978, -0.003423410700634122, 0.0727619007229805, 0.03986947983503342, -0.0758221223950386, -0.03305305168032646, 0.014661679975688457, -0.01111272070556879, -0.15500427782535553, 0.01199608575552702, -0.012732181698083878, 0.07026633620262146, -0.02044912613928318, -0.03656142204999924, 0.0677933469414711, -0.012652966193854809, 0.002750135026872158, 0.014333678409457207, 0.0012404058361425996, -0.009064002893865108, -0.005721316207200289, 0.02271096780896187, -0.007707921322435141, 0.04975367337465286, -0.00463807163760066, 0.04331095144152641, -0.04687657579779625, -0.019052019342780113, 0.041396234184503555, -0.04018104448914528, -0.025234978646039963, 0.016859954223036766, -0.009618417359888554, -0.028359686955809593, -0.04803066700696945, 0.013074079528450966, -0.021270444616675377, 0.046513546258211136, 0.00945970043540001, -0.016603371128439903, -0.021229740232229233, -0.01239000167697668, -0.01752312295138836, -0.004980568774044514, -0.06288380175828934, 0.047602392733097076, -0.0318630076944828, -0.010472121648490429, -0.03564736992120743, -0.024329332634806633, 0.010853372514247894, 0.011347121559083462, 0.04611565172672272, -0.0073326146230101585, -0.038273539394140244, 0.062038302421569824, 0.02828955464065075, -0.010737370699644089, -0.045717962086200714, -0.006205941550433636, 0.06727750599384308, 0.007116495165973902, -0.04450928419828415, 0.05707796290516853, 0.006833912339061499, 0.022145286202430725, -0.06643117964267731, -0.004627281334251165, 0.006649649702012539, -0.03896484151482582, 0.02793852984905243, 0.03276734799146652, -0.02693924680352211, -0.005870282184332609, 0.008682911284267902, 0.04123931750655174, -0.037685662508010864, 0.08108928054571152, 0.01237048115581274, -0.011515348218381405, 0.019230298697948456, 0.03624114394187927, -0.058578506112098694, 0.028302552178502083, 0.011782168410718441, -0.00788022205233574, 0.010150473564863205, 0.03652123361825943, -0.03723320737481117, -0.008646098896861076, -0.042532823979854584, -0.007156919687986374, -0.026887744665145874, 0.0458357110619545, -0.010011733509600163, -0.019512126222252846, 0.01380076538771391, -0.04296988248825073, 0.035726554691791534, 0.030201099812984467, -0.021093780174851418, 0.006059382110834122, 0.02076335810124874, 0.024387814104557037, -0.024361135438084602, -0.09251684695482254, 0.0018384162103757262, -0.048707589507102966, -0.006456138100475073, 0.013769852928817272, -0.010411917231976986, -0.028244901448488235, -0.030841795727610588, 0.04363320767879486, -0.06079396605491638, -0.0005537412944249809, -0.027845287695527077, -0.030459009110927582, 0.0353965163230896, 0.019089940935373306, -0.02140554040670395, -0.03643854707479477, 0.015365811996161938, 0.06279386579990387, -0.024606900289654732, -0.0011045034043490887, 0.03360501304268837, -0.008335177786648273, -0.030265923589468002, -0.042309440672397614, 0.019166095182299614, -0.02184482291340828, 0.04478328675031662, -0.011250150389969349, -0.021959418430924416, 0.025521695613861084, -0.029835624620318413, 0.003983214497566223, -0.0027651602867990732, 0.012638002634048462, -0.05046086013317108, -0.012349600903689861, 0.0006510665989480913, 0.06443183869123459, 0.04912804812192917, -0.018836602568626404, 0.037405237555503845, -0.01728767342865467, -0.03631727769970894, -0.0010857093147933483, -0.09121441096067429, -0.041216276586055756, 0.0010024596704170108, -0.07969776540994644, -0.01540876179933548, -0.02016436867415905, 0.014091473072767258, -0.007197268307209015, -0.010589628480374813, -0.022963237017393112, 0.03443754464387894, 0.01056128554046154, -0.03385690972208977, -0.030639922246336937, -0.05634962394833565, 0.059684719890356064, -0.025421474128961563, -0.030833598226308823, 0.03945624828338623, 0.007438467349857092, 0.08812786638736725, 0.013284407556056976, -0.019608475267887115, 0.05695457383990288, -0.01019136793911457, -0.02523520216345787, 0.022867631167173386, 0.043570972979068756, 0.04809968173503876, -0.0021537253633141518, -0.008672437630593777, 0.010262827388942242, -0.04133869335055351, 0.01271315012127161, 0.015007823705673218, -0.03227473422884941, -0.0068202693946659565, -0.05333922058343887, -0.006375287193804979, 0.02661922015249729, -0.05910316854715347, -0.04404869303107262, 0.04417192190885544, 0.05431449040770531, -0.024611225351691246, 0.03214581683278084, -0.003023772733286023, 0.031163867563009262, 0.027131671085953712, 0.01867983676493168, 0.023925216868519783, 0.03276130184531212, -0.05412328615784645, -0.025751186534762383, 0.0015433450462296605, 0.04098095744848251, 0.015942199155688286, 0.001170097035355866, -0.06406854838132858, 0.0032006055116653442, 0.035755980759859085, 0.048411257565021515, 0.011901036836206913, -0.005304600577801466, -0.01827743835747242, -0.019862951710820198, 0.04073455184698105, 0.00264376075938344, 0.006830347701907158, -0.0963112935423851, -0.07141153514385223, 0.012959661893546581, -0.03723284229636192, -0.022662527859210968, 0.03170275688171387, 0.006169087719172239, 0.002268177689984441, -0.011258375830948353, -0.009036560542881489, -0.010850343853235245, 0.032493747770786285, -0.0090851541608572, 0.06332526355981827, -0.004787427373230457, 0.002493971725925803, 0.0005527067114599049, 0.012129225768148899, 0.05381293222308159, 0.0465996079146862, -0.00243387115187943, -0.013873531483113766, 0.05156027898192406, -0.0416821725666523, 0.011848444119095802, 0.018924932926893234, 0.06811539083719254, -0.02017905004322529, 0.0008183671161532402, -0.027059029787778854, 0.025100164115428925, -0.007276462856680155, 0.04437045007944107, -0.02839082106947899, 0.06606247276067734, -0.03453123942017555, 0.028320644050836563, 0.011173518374562263, 0.03714453801512718, -0.0014790704008191824, -0.006252233870327473, 0.036773886531591415, 0.016124850139021873, -0.03034898079931736, 0.02265392616391182, 0.028420040383934975, -0.049292005598545074, 0.03016763925552368, -0.00012831507774535567, 0.07171699404716492, 0.022077158093452454, -0.015953363850712776, -0.016658248379826546, -0.011997772380709648, 0.02518787421286106, -0.046656981110572815, 0.06970014423131943, 0.0055749258026480675, 0.0075584216974675655, -0.08377695083618164, -0.04589070379734039, -0.01882622204720974, 0.02413000725209713, -0.012361057102680206, 0.059552665799856186, -0.0648145079612732, -0.05146150290966034, -0.004596979357302189, -0.005620432551950216, 0.03805067390203476, -0.01764843985438347, -0.04205622151494026, -0.012536822818219662, -0.05036832019686699, 0.06240005046129227, -0.11365398019552231, -0.021277477964758873, -0.015887927263975143, 0.012126591056585312, 0.008732602931559086, -0.010286085307598114, 0.032496433705091476, 0.06582821905612946, -0.0387197807431221, 0.0062430743128061295, 0.012100386433303356, 0.03457395359873772, -0.010381332598626614, 0.01074319425970316, 0.06056807190179825, 0.01583380438387394, -0.01566002331674099, -0.02108883671462536, 0.010794613510370255, 0.041570134460926056, -0.03214188665151596, -0.01643959991633892, 0.010034723207354546, -0.018236558884382248, -0.03600284457206726, 0.02926342375576496, -0.05789041519165039, 0.0038491731975227594, -0.03012733720242977, 0.007998342625796795, 0.041983965784311295, 0.03423808515071869, -0.07094010710716248, 0.03941073268651962, -0.0644955039024353, 0.0394027903676033, -0.02137528359889984, -0.08825734257698059, -0.015093584544956684, 0.005349965766072273, 0.018504219129681587, -0.019760742783546448, -0.011902696453034878, 0.0014158746926113963, -0.04277663677930832, -0.03256916627287865, -0.04482081159949303, -0.011040580458939075, 0.015252545475959778, -0.013777841813862324, 0.06876806169748306, -0.0005105045274831355, -0.002411456312984228, 0.038044605404138565, -0.0009986741933971643, -0.009907105937600136, -0.04614243283867836, 0.024199126288294792, -0.017518073320388794, 0.01774434559047222, 0.017626626417040825, 0.033372215926647186, 0.05320902541279793, -0.045924875885248184, -0.00383828510530293, -0.029811639338731766, -0.023760464042425156, -0.03868548199534416, -0.04064052924513817, 0.060519713908433914, 0.010801945813000202, -0.038838423788547516, -0.010240538977086544, 0.03314405679702759, -0.02654828131198883, -0.035932235419750214, 0.01790217123925686, 0.005141368601471186, 0.052079200744628906, 0.010641226544976234, 0.016631362959742546, -0.01422126218676567, 0.014855978079140186, 0.0032172000501304865, -0.004617318511009216, 0.08768408745527267, 0.0272100567817688, 0.054229218512773514, -5.826525461604815e-33, 0.00020521906844805926, 0.054404813796281815, -0.0066419942304492, 0.08103840053081512, -0.01115393452346325, -0.02830439992249012, -0.020390087738633156, -0.0070854839868843555, -0.058713268488645554, -0.0229027196764946, 0.027861984446644783, 0.0279354490339756, 0.01918581686913967, 0.04605546593666077, 0.009548511356115341, 0.05837177485227585, -0.031253062188625336, -0.009654163382947445, -0.018775101751089096, -0.0015519927255809307, -0.057003460824489594, 0.01818636991083622, -0.04210234805941582, 0.04286058247089386, -0.036891624331474304, -0.014758290722966194, -0.021223634481430054, -0.0015254202298820019, 0.0647939145565033, -0.04191705211997032, 0.03369501605629921, -0.022084316238760948, -0.01743224821984768, -0.08115829527378082, -0.008914580568671227, -0.019046148285269737, -0.019916405901312828, -0.03400065749883652, -0.062471695244312286, 0.01058641541749239, 0.0024799329694360495, 0.06489232927560806, 0.02909613586962223, -0.031019264832139015, 0.011780641041696072, 0.022149205207824707, 0.027960099279880524, 0.038887135684490204, 0.03008546307682991, 0.07698772847652435, 0.017973942682147026, 0.02890455536544323, -0.0307866670191288, 0.047091178596019745, 0.022694330662488937, -0.0027084711473435163, -0.01096470095217228, 0.01950835809111595, 0.058710578829050064, 0.029189936816692352, 0.09600094705820084, -0.009622697718441486, 0.01995566114783287, -0.005371049977838993, 0.036665644496679306, 0.0031186009291559458, 0.02735523320734501, -0.04161153361201286, 0.030988527461886406, 0.05151941627264023, -0.026994064450263977, 0.03563051298260689, -0.017376860603690147, 0.04163375869393349, -0.06095903366804123, -0.005717831198126078, 0.005977210588753223, -0.004851697478443384, 0.06811343878507614, -0.00010874205327127129, -0.0310360174626112, -0.018091699108481407, 0.008984086103737354, 0.002890785923227668, 0.05254162847995758, -0.0156300887465477, -0.031496211886405945, -0.009902040474116802, -0.018750904127955437, 0.024282356724143028, -0.011263247579336166, 0.12013101577758789, -0.007783764507621527, 0.0015281158266589046, -0.014816565439105034, 0.013042368926107883, 0.008536149747669697, 0.017257528379559517, 0.0068118213675916195, -0.005274895112961531, -0.04373383894562721, -0.03190045803785324, 0.008582626469433308, 0.018364377319812775, 0.021843576803803444, -0.002758061746135354, -0.014563367702066898, -0.0377984382212162, -0.02897912636399269, 0.0049386764876544476, -0.0035986960865557194, 0.012247570790350437, 0.0004267522308509797, -0.038241174072027206, -0.015179880894720554, -0.007766290567815304, 0.00738806976005435, 0.025902733206748962, -0.005112412851303816, 0.01039136666804552, -0.020192494615912437, -0.036693643778562546, -0.021162137389183044, -0.02247261442244053, 0.005061209201812744, -0.022772379219532013, -0.02597639709711075, -0.029514381662011147, 0.031922847032547, 0.0017265379428863525, -0.0017130007036030293, -0.018883710727095604, 2.458782830672135e-07, -0.01824069768190384, 0.07730790227651596, -0.0031231471803039312, 0.0010637919185683131, -0.017621448263525963, -0.07323367893695831, -0.02493724226951599, -0.0014668633230030537, 0.0038108723238110542, 0.015870580449700356, -0.02212207391858101, -0.0037035313434898853, 0.008649619296193123, 0.0426114983856678, -0.010874326340854168, -0.0816425085067749, 5.923191929468885e-05, -0.06612153351306915, -0.03319339081645012, 0.024092646315693855, 0.011722455732524395, 0.04977384954690933, 0.04543584585189819, 0.011450381018221378, 0.02322886511683464, -0.026833610609173775, -0.04430406913161278, -0.05221041664481163, 0.05297220125794411, 0.0669446736574173, -0.05562575161457062, 0.05397045239806175, -0.019305195659399033, 0.07028750330209732, -0.03460077568888664, -0.03761943057179451, 0.0026330950204283, -0.015088924206793308, 0.0032114367932081223, 0.020758558064699173, 0.01557409018278122, -0.006811610888689756, -0.058790408074855804, -0.12151862680912018, 0.042750585824251175, -0.03589625656604767, -0.02613118290901184, 0.053062353283166885, -0.04876665398478508, -0.019406838342547417, -0.016019120812416077, 0.026355616748332977, 0.020881982520222664, -0.03353773429989815, -0.00288370531052351, -0.025448137894272804, -0.045334819704294205, 0.0028242627158761024, 0.014104372821748257, -0.02369096130132675, -0.01802796684205532, -0.0311211459338665, 0.014707397669553757, -0.054138652980327606, -0.0007549028960056603, 0.004002392292022705, 0.027016662061214447, 2.485037531555289e-34, 0.00410695793107152, -0.016724063083529472, 0.022823968902230263, -0.022890644147992134, -0.006989706307649612, -0.0371277779340744, 0.09435015916824341, -0.02188127301633358, -0.005532687529921532, -0.045000407844781876, -0.040944624692201614]}}, {'_index': 'course-questions', '_id': 'VhMy1pEBAs_YWaRzgNQv', '_score': 0.778914, '_source': {'text': \"Yes, even if you don't register, you're still eligible to submit the homeworks.\\nBe aware, however, that there will be deadlines for turning in the final projects. So don't leave everything for the last minute.\", 'section': 'General course-related questions', 'question': 'Course - Can I still join the course after the start date?', 'course': 'data-engineering-zoomcamp', 'text_vector': [-0.05720667541027069, 0.01988736167550087, -0.024336038157343864, -0.01007663644850254, 0.038989126682281494, 0.010869251564145088, 0.026468897238373756, -0.033919140696525574, 0.02910638600587845, -0.04912998154759407, 0.03300593048334122, -0.06733982264995575, -0.0214267335832119, -0.013197355903685093, -0.035638727247714996, 0.06667868047952652, -0.041947830468416214, -0.050114866346120834, -0.05269116908311844, -0.04796304553747177, -0.06410785764455795, -0.0028072684071958065, -0.04610525071620941, 0.025319058448076248, -0.006165161728858948, 0.015357721596956253, 0.011438499204814434, 0.007210941985249519, 0.019212638959288597, 0.03105747327208519, 0.07468396425247192, 0.03687853366136551, -0.0031253122724592686, 0.0001518788340035826, 1.6149327848324901e-06, 0.003783243475481868, 0.012943947687745094, -0.003567012492567301, -0.008991444483399391, -0.015526930801570415, 0.027593782171607018, 0.07482048869132996, -0.01573655754327774, -0.023416785523295403, -0.07233109325170517, 0.060394346714019775, 0.03602699562907219, -0.05339867249131203, 0.007868479005992413, -0.005692148581147194, -0.005808432120829821, -0.024804359301924706, 0.004156503360718489, -0.0016194423660635948, 0.04132309556007385, 0.039945438504219055, -0.01069028303027153, 0.01889095827937126, -0.04533000662922859, -0.013236060738563538, -0.011138368397951126, -0.025242632254958153, -0.018062740564346313, -0.0057878196239471436, 0.013768384233117104, 0.021366607397794724, 0.027061671018600464, -0.03884943947196007, -0.003752603195607662, -0.02762911655008793, 0.03139195591211319, -0.008177971467375755, 0.036710985004901886, 0.001275044633075595, -0.0665866807103157, -0.003372087376192212, -0.026249263435602188, 0.02365700714290142, 0.06409213691949844, 0.0037832066882401705, 0.03559928759932518, -0.03359711915254593, -0.012393222190439701, -0.02843700908124447, 0.04831108823418617, -0.068440280854702, -0.0029091916512697935, 0.020402196794748306, -0.05925178900361061, 0.010695844888687134, -0.03595886379480362, 0.006172927562147379, -0.0376136489212513, 0.01079569011926651, -0.03852478414773941, -0.060703035444021225, -0.040886055678129196, -0.07573268562555313, -0.003939758520573378, 0.06185761094093323, -0.014126380905508995, -0.008405675180256367, 0.021672967821359634, 0.0034346363972872496, -0.00030371019965969026, 0.04607115313410759, 0.018914462998509407, 0.0351724736392498, -0.0024288955610245466, 0.004256752785295248, -0.06436245888471603, 0.050968240946531296, -0.010630251839756966, 0.01899954117834568, -0.03727157413959503, 0.04145815223455429, 0.02117839641869068, -0.016180498525500298, 0.039412979036569595, 0.01592818647623062, 0.03936094045639038, 0.01575879380106926, -0.06843768805265427, 0.006341844797134399, -0.09967001527547836, -0.05064643546938896, 0.04795895144343376, -0.03632909059524536, -0.029168933629989624, -0.017409134656190872, 0.042348604649305344, 0.0034087789244949818, 0.006662275642156601, -0.06885242462158203, 0.03586546331644058, -0.0931645855307579, 0.021527979522943497, 0.004624410532414913, 0.06205698475241661, 0.027224374935030937, 0.07266467064619064, -0.050799913704395294, 0.012357768602669239, 0.002947846194729209, -0.00789604615420103, -0.007049747742712498, 0.018296031281352043, 0.014814403839409351, 0.0011515420628711581, -0.005390475504100323, 0.06317168474197388, 0.0021105099003762007, 0.032193660736083984, -0.05871462821960449, -0.05861019715666771, -0.01177744660526514, 4.2113148083444685e-05, -0.0212502833455801, 0.04240673780441284, 0.016095532104372978, -0.0674232691526413, -0.03558696433901787, 0.017001796513795853, 0.015446835197508335, -0.004195167683064938, 0.014161321334540844, 0.03237376734614372, -0.004936112090945244, 0.01258303876966238, -0.07797560840845108, -0.05074509233236313, 0.008295174688100815, 0.009491912089288235, -0.003221380291506648, -0.05510319024324417, 0.0836125910282135, -0.0020536002703011036, -0.008290207013487816, -0.026746254414319992, -0.04483519494533539, 0.029847213998436928, -0.03483771160244942, -0.010647064074873924, 0.0021774338092654943, 0.035830121487379074, 0.0071707963943481445, -0.05861072987318039, 0.05219228193163872, 0.033340755850076675, 0.01624804176390171, -0.021046863868832588, -0.02120261825621128, 0.009597988799214363, 0.00840887799859047, 0.007092710118740797, -0.004653550684452057, 0.01022291462868452, -0.02445399947464466, -0.03465106338262558, -0.03093269281089306, -0.026656322181224823, 0.0033906775061041117, 0.036086760461330414, -0.008897937834262848, -0.014296731911599636, -0.024165315553545952, 0.026328139007091522, -0.057181671261787415, 0.0012575220316648483, 0.06391716003417969, 0.04973868653178215, -0.0031689866445958614, 0.00305548426695168, -0.04337139427661896, -0.03817908838391304, 0.0021252252627164125, -0.008732966147363186, -0.040533535182476044, 0.009401626884937286, -0.04638108238577843, -0.020476359874010086, -0.005835862830281258, -0.07395455986261368, 0.025652743875980377, -0.07326757907867432, -0.024990929290652275, 0.015557074919342995, 0.0452994778752327, 0.049806684255599976, 0.027695976197719574, 0.027673067525029182, -0.01910884864628315, 0.03066704422235489, -0.05771749094128609, -0.0005494285142049193, -0.1397857964038849, 0.018797459080815315, -0.0032366039231419563, 0.014518835581839085, 0.051288701593875885, 0.008034002967178822, 0.018415771424770355, 0.023425312712788582, -0.0157740730792284, 0.008046618662774563, 0.05592019483447075, 0.024902811273932457, 0.006927632726728916, -0.020998047664761543, -0.005228969268500805, 0.0316045880317688, 0.014789748936891556, 0.02932509407401085, -0.004828055389225483, 0.01855604164302349, 0.01116874534636736, -0.03479694202542305, -0.011195332743227482, 0.039060257375240326, -0.026913706213235855, -0.02866421453654766, 0.006678759586066008, -0.026564229279756546, -0.01884853094816208, -0.04481811448931694, 0.039699845016002655, -0.01326841115951538, -0.0011048237793147564, 0.044040415436029434, 0.0242098830640316, 0.03309786692261696, 0.001066311146132648, -0.009787449613213539, -0.004028575960546732, 0.006338096223771572, -0.01849222742021084, -0.03569929301738739, 0.017553942278027534, -0.04907117038965225, 0.014614660292863846, -0.055377840995788574, 0.058988358825445175, -0.0060366494581103325, -0.007236836943775415, 0.0023569182958453894, 0.004944270011037588, 0.009869745932519436, -0.06360459327697754, 0.07618750631809235, 0.06940103322267532, 0.018368400633335114, 0.003973725717514753, 0.03737206384539604, -0.012558851391077042, -0.07991421222686768, 0.03134292736649513, 0.07494771480560303, -0.009722728282213211, -0.08881960064172745, -0.0016215486684814095, 0.03237234055995941, -0.04648396372795105, 0.00698279170319438, 0.041022446006536484, 0.046764958649873734, 0.006456159520894289, -0.009599363431334496, 0.009471843019127846, -0.04088867828249931, -0.05552303045988083, 0.007059296127408743, 0.012485318817198277, 0.03463251516222954, -0.03715773671865463, -0.00805750209838152, 0.06473246961832047, 0.03705959767103195, 0.04056106507778168, -0.008656174875795841, -0.006732329726219177, -0.01838114857673645, -0.016266217455267906, 0.005053007043898106, -0.030510876327753067, -0.056486573070287704, -0.047136954963207245, -0.009537451900541782, 0.02746220864355564, 0.03136412426829338, 0.013882427476346493, 0.005555039271712303, -0.007625385653227568, 0.0036113744135946035, 0.016696074977517128, -0.034508101642131805, -0.018102070316672325, -0.04679066687822342, -0.06027362868189812, 0.06717550754547119, 0.010977674275636673, -0.05370550975203514, 0.06873192638158798, 0.011362421326339245, 0.029573341831564903, 0.0005340413772501051, 0.04497631639242172, 0.019507985562086105, -0.03614503890275955, 0.041942283511161804, 0.01141793467104435, -0.004242243245244026, -0.019380636513233185, -0.038085244596004486, -0.01563805714249611, -0.0017764124786481261, 0.022673791274428368, -0.015788283199071884, 0.029103124514222145, 0.008721266873180866, -0.010404744185507298, -0.0019289252813905478, 0.002534740837290883, 0.0778815746307373, -0.003768657799810171, 0.002237174892798066, -0.033010441809892654, 0.01200877781957388, 0.024369120597839355, -0.036660414189100266, 0.0027084755711257458, -0.01527122687548399, -0.032325584441423416, 0.0619574598968029, -0.04102030768990517, -0.06621744483709335, -0.00924175325781107, -0.051071733236312866, 0.03421430662274361, -0.04025845602154732, 0.015081622637808323, 0.010197192430496216, -0.004303928930312395, 0.003840843914076686, 0.03726315125823021, 0.06452719867229462, -0.0391366146504879, 0.03319613263010979, -0.014312949031591415, 0.10660557448863983, 0.07085135579109192, -0.018354902043938637, 0.020387236028909683, 0.04452100023627281, 0.010232423432171345, -0.022243812680244446, 0.0032724193297326565, -0.08564167469739914, -0.05905772000551224, 0.005575054790824652, 0.01918296329677105, -0.009275095537304878, 0.008158398792147636, -0.030417755246162415, 0.005579041317105293, 0.000288517156150192, 0.03881996497511864, 0.053414005786180496, 0.0017117670504376292, -0.0005098144174553454, -0.07853846251964569, 0.06400661915540695, -0.04854081571102142, -0.040952425450086594, 0.006241810508072376, -0.048757877200841904, 0.006344615947455168, -0.029763543978333473, 0.007996375672519207, -0.023066747933626175, -0.0832885354757309, 0.011781922541558743, -0.006487157661467791, 0.07051073759794235, -0.015069093555212021, -0.03578392043709755, 0.043880660086870193, -0.0684456080198288, -0.039743438363075256, 0.017610495910048485, -0.012253880500793457, 0.020161638036370277, 0.013127703219652176, -0.019214797765016556, -0.035951241850852966, -0.027250874787569046, 0.013527092523872852, 0.017218269407749176, 4.407737378642196e-06, -0.01428163144737482, 0.0506586916744709, -0.009372101165354252, 0.05565596744418144, 0.10068736970424652, 0.026222815737128258, 0.034665655344724655, 0.053139153867959976, -0.01576508954167366, -0.028401263058185577, 0.0741448625922203, -0.019039113074541092, 0.01807103119790554, 0.0012127456720918417, -0.06931337714195251, -0.051972270011901855, -0.00303114322014153, -0.0057390774600207806, -0.05542662367224693, -0.06059551239013672, 0.009438402950763702, 0.023469366133213043, 0.00828945729881525, 0.0051702577620744705, -0.013052849099040031, -0.006324339658021927, -0.019955651834607124, 0.015246571972966194, -0.0338766872882843, -0.005645045544952154, -0.014144605956971645, -0.04224110767245293, -0.016773104667663574, -0.0019838050939142704, -0.024424152448773384, 0.008717630989849567, 0.005434758495539427, 0.038744136691093445, 0.031929705291986465, 0.022381648421287537, 0.045097749680280685, 0.02794697880744934, 0.08353890478610992, 0.11840232461690903, 0.018533656373620033, -0.0407194048166275, 0.0401918850839138, 0.007333362475037575, 0.05327443778514862, -0.024355532601475716, -0.01584603637456894, -0.03459186479449272, -0.018215244635939598, -0.011878211051225662, -0.005219032987952232, 0.11135438829660416, 0.02669166401028633, 0.04207573086023331, 0.046224478632211685, 0.08678632229566574, 0.0014208261854946613, 0.06878544390201569, 0.043371014297008514, -0.005797415040433407, -0.0016428370727226138, 0.007999504916369915, 0.027824845165014267, -0.0037617299240082502, -0.03365743160247803, -0.03313268721103668, -0.01615399308502674, 0.03667549788951874, 0.046396221965551376, -0.012309974990785122, 0.025819342583417892, 0.023920277133584023, -0.020767508074641228, -0.021625757217407227, -0.025344237685203552, 0.10757278650999069, 0.004503763746470213, -0.03984625265002251, 0.0318346805870533, -0.018460093066096306, -0.0069013359025120735, -0.024776441976428032, -0.035262543708086014, -0.00445368280634284, 0.02432139404118061, -0.023491187021136284, 0.007969338446855545, -0.011289676651358604, 0.01077616773545742, -0.013524267822504044, 0.004769413266330957, 0.03712109848856926, 0.02027715928852558, -0.026365570724010468, -0.0024363987613469362, -0.023045720532536507, -5.841848178533837e-05, 0.07920998334884644, 0.07926206290721893, -0.049842700362205505, -0.055033907294273376, 0.029257774353027344, -0.008853870443999767, 0.009415052831172943, -0.002192090265452862, -0.0007218692917376757, -0.03661765158176422, 0.004140501841902733, -0.012803269550204277, 0.012318303808569908, 0.027447044849395752, 0.06574079394340515, 0.03488891199231148, -5.002983302968336e-33, -0.00019633288320619613, -0.0380694642663002, 0.0342220775783062, 0.016044290736317635, 0.016765352338552475, -0.0451960563659668, -0.015589500777423382, -0.00828451570123434, 0.01770952343940735, 0.005861529149115086, 0.004079521168023348, 0.030006639659404755, 0.01123759988695383, 0.08277063071727753, 0.017947643995285034, 0.009545492939651012, 0.046970512717962265, 0.006559662986546755, 0.022907275706529617, -0.010273395106196404, -0.09821930527687073, -0.003967801108956337, 0.01535932905972004, 0.0663730651140213, 0.024593044072389603, -0.07303138077259064, 0.010348073206841946, 0.00046737107913941145, 0.0001069249483407475, 0.03674902021884918, -0.014782465063035488, -0.018703941255807877, 0.003205793211236596, 0.01782163418829441, 0.011611420661211014, -0.0008025541319511831, -0.06313807517290115, 0.03292929381132126, -0.02490117773413658, 0.0027760479133576155, 0.008221656084060669, -0.03844437748193741, 0.046292368322610855, -0.019595641642808914, -0.017609765753149986, 0.02268609218299389, -0.014532639645040035, 0.03835120052099228, 0.03326442465186119, 0.011887215077877045, -0.06240745261311531, -0.02924608811736107, -0.027551747858524323, -0.011037252843379974, -0.0008152054506354034, 0.029150811955332756, 0.02041635662317276, -0.045053914189338684, -0.06431173533201218, 0.047393545508384705, -0.08433125168085098, -0.0015503718750551343, 0.021290550008416176, 0.01690070703625679, -0.02039107121527195, 0.008715509437024593, -0.014374032616615295, -0.010431380942463875, -0.11021317541599274, -0.02582029439508915, -0.0006371391355060041, -0.05681652948260307, 0.01549834106117487, -0.02934248000383377, -0.017718635499477386, 0.03268514201045036, 0.00573306530714035, 0.009117803536355495, 0.060918644070625305, 0.0037609071005135775, -0.028570346534252167, -0.016081755980849266, -0.033282335847616196, 0.018115870654582977, 0.011375149711966515, -0.00722392788156867, 0.003948700614273548, 0.024318622425198555, 0.02771713398396969, -0.022358354181051254, -0.052903857082128525, -0.06213611736893654, 0.0058244927786290646, -0.021343380212783813, 0.0046019526198506355, -0.01788315922021866, 0.06051763892173767, 0.0018728469731286168, 0.029226476326584816, 0.012275557965040207, 0.03636042773723602, 0.03948472812771797, -0.0024769471492618322, 0.019588321447372437, 0.017612120136618614, 0.012500093318521976, -0.06783775240182877, 0.004584038630127907, -0.002501746639609337, -0.008824637159705162, -0.021047594025731087, -0.02574106678366661, 0.020659780129790306, 0.009273522533476353, 0.04734673351049423, 0.02322465553879738, 0.02933565154671669, 0.03283319249749184, -0.051764559000730515, 0.0258947741240263, 0.0019668336026370525, 0.0007657326641492546, -0.007969376631081104, -0.09023027122020721, 0.016411704942584038, -0.011534773744642735, -0.0331982746720314, 0.059896908700466156, 0.000978066585958004, 0.03126507252454758, 0.020896904170513153, -0.0372462123632431, 2.343398506354788e-07, -0.018151894211769104, 0.05240149796009064, -0.03961239010095596, 0.01841145195066929, -0.04278581961989403, -0.005246720742434263, -0.048594050109386444, -0.054851748049259186, 0.024114198982715607, 0.08101464807987213, -0.030580496415495872, -0.06310904771089554, 0.04232658073306084, 0.058252859860658646, -0.00817809160798788, -0.05742351710796356, 0.04827497527003288, 0.0493692122399807, 0.006202001124620438, 0.028058256953954697, 0.03791331499814987, -0.009026465006172657, 0.05208047851920128, -0.0024322010576725006, -0.02808297984302044, -0.013828893192112446, -0.01800422929227352, 0.07037288695573807, -0.01584521122276783, 5.677463923348114e-05, 0.04620889946818352, -0.0677412897348404, 0.06554287672042847, 0.06308519095182419, -0.013397272676229477, -0.015291710384190083, 0.02188090793788433, -0.011297356337308884, 0.02022157795727253, -0.009503723122179508, 0.004479523748159409, -0.05011787638068199, 0.03123852238059044, -0.013123026117682457, 0.004126016516238451, -0.011693359352648258, 0.038196902722120285, 0.00658692792057991, -0.004850335419178009, -0.03344496712088585, 0.014529106207191944, 0.03745430335402489, 0.0019917127210646868, -0.06107188016176224, 0.0565885566174984, -0.0772719532251358, -0.03382530435919762, 0.005245826207101345, 0.04165362939238548, -0.03546028956770897, -0.008409064263105392, -0.0008969576447270811, 0.04819400608539581, 0.006656880956143141, 0.056989483535289764, 0.010372793301939964, 0.024841634556651115, 2.017693349680743e-34, -0.0255481768399477, 0.013628391548991203, 0.007857052609324455, -0.029070427641272545, 0.015355664305388927, -0.02716178633272648, -0.009616413153707981, -0.06874390691518784, -0.007147027645260096, -0.026030447334051132, -0.011906489729881287]}}]}})"
      ]
     },
     "execution_count": 42,
     "metadata": {},
     "output_type": "execute_result"
    }
   ],
   "source": []
  },
  {
   "cell_type": "code",
   "execution_count": null,
   "metadata": {},
   "outputs": [],
   "source": []
  },
  {
   "cell_type": "code",
   "execution_count": 35,
   "metadata": {},
   "outputs": [
    {
     "data": {
      "text/plain": [
       "948"
      ]
     },
     "execution_count": 35,
     "metadata": {},
     "output_type": "execute_result"
    }
   ],
   "source": [
    "#cella per vedere quanti documenti sono presenti nel VDB\n",
    "\n",
    "search_query = {\n",
    "    \"size\": 10000,\n",
    "    \"query\": {\n",
    "        \"match_all\": {}\n",
    "    }\n",
    "        }\n",
    "    \n",
    "\n",
    "response = es_client.search(index=index_name, body=search_query)\n",
    "len(response['hits']['hits'])"
   ]
  }
 ],
 "metadata": {
  "kernelspec": {
   "display_name": "Python 3 (ipykernel)",
   "language": "python",
   "name": "python3"
  },
  "language_info": {
   "codemirror_mode": {
    "name": "ipython",
    "version": 3
   },
   "file_extension": ".py",
   "mimetype": "text/x-python",
   "name": "python",
   "nbconvert_exporter": "python",
   "pygments_lexer": "ipython3",
   "version": "3.12.1"
  }
 },
 "nbformat": 4,
 "nbformat_minor": 4
}
