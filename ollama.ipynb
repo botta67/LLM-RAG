{
 "cells": [
  {
   "cell_type": "code",
   "execution_count": null,
   "id": "37d1991e-ae82-44f1-9049-53a02ceb1ef4",
   "metadata": {},
   "outputs": [],
   "source": [
    "!curl https://ollama.ai/install.sh | sh"
   ]
  },
  {
   "cell_type": "code",
   "execution_count": null,
   "id": "b17565fb-97e3-4b6c-975b-8a8521352941",
   "metadata": {},
   "outputs": [],
   "source": [
    "import os\n",
    "import asyncio\n",
    "\n",
    "# NB: You may need to set these depending and get cuda working depending which backend you are running.\n",
    "# Set environment variable for NVIDIA library\n",
    "# Set environment variables for CUDA\n",
    "os.environ['PATH'] += ':/usr/local/cuda/bin'\n",
    "# Set LD_LIBRARY_PATH to include both /usr/lib64-nvidia and CUDA lib directories\n",
    "os.environ['LD_LIBRARY_PATH'] = '/usr/lib64-nvidia:/usr/local/cuda/lib64'\n",
    "\n",
    "async def run_process(cmd):\n",
    "    print('>>> starting', *cmd)\n",
    "    process = await asyncio.create_subprocess_exec(\n",
    "        *cmd,\n",
    "        stdout=asyncio.subprocess.PIPE,\n",
    "        stderr=asyncio.subprocess.PIPE\n",
    "    )\n",
    "\n",
    "    # define an async pipe function\n",
    "    async def pipe(lines):\n",
    "        async for line in lines:\n",
    "            print(line.decode().strip())\n",
    "\n",
    "        await asyncio.gather(\n",
    "            pipe(process.stdout),\n",
    "            pipe(process.stderr),\n",
    "        )\n",
    "\n",
    "    # call it\n",
    "    await asyncio.gather(pipe(process.stdout), pipe(process.stderr))"
   ]
  },
  {
   "cell_type": "code",
   "execution_count": null,
   "id": "47913857-ce10-459a-9305-a02751024b22",
   "metadata": {},
   "outputs": [],
   "source": [
    "import asyncio\n",
    "import threading\n",
    "\n",
    "async def start_ollama_serve():\n",
    "    await run_process(['ollama', 'serve'])\n",
    "\n",
    "def run_async_in_thread(loop, coro):\n",
    "    asyncio.set_event_loop(loop)\n",
    "    loop.run_until_complete(coro)\n",
    "    loop.close()\n",
    "\n",
    "# Create a new event loop that will run in a new thread\n",
    "new_loop = asyncio.new_event_loop()\n",
    "\n",
    "# Start ollama serve in a separate thread so the cell won't block execution\n",
    "thread = threading.Thread(target=run_async_in_thread, args=(new_loop, start_ollama_serve()))\n",
    "thread.start()"
   ]
  },
  {
   "cell_type": "code",
   "execution_count": null,
   "id": "4f518881-054b-4860-bc68-1074d3bced8e",
   "metadata": {},
   "outputs": [],
   "source": [
    "!ollama pull llama3"
   ]
  },
  {
   "cell_type": "code",
   "execution_count": 1,
   "id": "1c41c4c2-1a11-4a55-ba3d-ba9c2c573395",
   "metadata": {},
   "outputs": [],
   "source": [
    "import ollama"
   ]
  },
  {
   "cell_type": "code",
   "execution_count": 2,
   "id": "89cd8b22-2902-43f9-9902-ef54bc24a82e",
   "metadata": {},
   "outputs": [],
   "source": [
    "\n",
    "response = ollama.generate(model=\"gemma:2b\",prompt='what is the sun?')"
   ]
  },
  {
   "cell_type": "code",
   "execution_count": 6,
   "id": "94cfac33-ec26-407c-b432-1afb014a854d",
   "metadata": {},
   "outputs": [
    {
     "data": {
      "text/plain": [
       "'The Sun is a celestial body that is the central star of our solar system. It is a giant ball of hot plasma that radiates light and heat throughout the electromagnetic spectrum. The Sun is about 4.6 billion years old, and it is the primary source of energy for life on Earth.'"
      ]
     },
     "execution_count": 6,
     "metadata": {},
     "output_type": "execute_result"
    }
   ],
   "source": [
    "responde"
   ]
  },
  {
   "cell_type": "code",
   "execution_count": null,
   "id": "eb8f9ccc-d6b3-4c1d-a070-e2bb1a6f1efb",
   "metadata": {},
   "outputs": [],
   "source": []
  }
 ],
 "metadata": {
  "kernelspec": {
   "display_name": "Python 3 (ipykernel)",
   "language": "python",
   "name": "python3"
  },
  "language_info": {
   "codemirror_mode": {
    "name": "ipython",
    "version": 3
   },
   "file_extension": ".py",
   "mimetype": "text/x-python",
   "name": "python",
   "nbconvert_exporter": "python",
   "pygments_lexer": "ipython3",
   "version": "3.12.1"
  }
 },
 "nbformat": 4,
 "nbformat_minor": 5
}
